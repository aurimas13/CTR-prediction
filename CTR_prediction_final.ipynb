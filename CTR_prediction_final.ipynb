{
 "cells": [
  {
   "cell_type": "markdown",
   "id": "e5f447f5",
   "metadata": {},
   "source": [
    "# The ML model of CTR prediction\n",
    "\n",
    "This is the analysis of ads generated through 11 days and known as **Avazu** data. The project follows Data Collection, EDA, Data cleaning, modeling, it's evaluation & deployment.|"
   ]
  },
  {
   "cell_type": "code",
   "execution_count": 1,
   "id": "1daee040",
   "metadata": {},
   "outputs": [],
   "source": [
    "# Importing libraries\n",
    "\n",
    "import numpy as np             # Mathetimatical Operations\n",
    "import pandas as pd            # Data manipulation\n",
    "import os\n",
    "os.environ['KMP_DUPLICATE_LIB_OK']='True'\n",
    "os.environ['TF_XLA_FLAGS'] = '--tf_xla_enable_xla_devices'\n",
    "\n",
    "# Visualization\n",
    "import matplotlib.pyplot as plt\n",
    "import seaborn as sns\n",
    "import plotly.express as px\n",
    "from plotly.offline import iplot\n",
    "\n",
    "# Scipy\n",
    "import scipy\n",
    "from scipy import stats\n",
    "import scipy.stats as ss\n",
    "\n",
    "# Sklearn\n",
    "from sklearn.tree import DecisionTreeClassifier\n",
    "from sklearn.preprocessing import OneHotEncoder\n",
    "from sklearn.model_selection import GridSearchCV\n",
    "from sklearn.metrics import roc_auc_score\n",
    "from sklearn.ensemble import RandomForestClassifier\n",
    "from sklearn.linear_model import SGDClassifier\n",
    "from sklearn import datasets\n",
    "from sklearn.model_selection import train_test_split\n",
    "from sklearn.model_selection import GridSearchCV\n",
    "from sklearn import preprocessing\n",
    "\n",
    "# XGBoost\n",
    "import xgboost as xgb\n",
    "\n",
    "# Tensorflow\n",
    "import tensorflow as tf\n",
    "\n",
    "# Other\n",
    "import itertools\n",
    "from tqdm import tqdm\n",
    "from mlxtend.preprocessing import minmax_scaling\n",
    "from typing import Union\n",
    "from wordcloud import WordCloud, STOPWORDS\n",
    "import gzip\n",
    "import timeit\n",
    "import warnings\n",
    "warnings.filterwarnings('ignore')"
   ]
  },
  {
   "cell_type": "markdown",
   "id": "31242a48",
   "metadata": {},
   "source": [
    "# Data collection"
   ]
  },
  {
   "cell_type": "code",
   "execution_count": 2,
   "id": "bcbac813",
   "metadata": {},
   "outputs": [],
   "source": [
    "df = pd.read_csv('data/train.gz', compression='gzip', header=0, sep=',', quotechar='\"', error_bad_lines=False)\n",
    "# validation_df = pd.read_csv('sampleSubmission.gz', compression='gzip', header=0, sep=',', quotechar='\"', error_bad_lines=False)\n",
    "# test_df = pd.read_csv('test.gz', compression='gzip', header=0, sep=',', quotechar='\"', error_bad_lines=False)"
   ]
  },
  {
   "cell_type": "markdown",
   "id": "8ff87aa5",
   "metadata": {},
   "source": [
    "# Exploratory Data Analysis"
   ]
  },
  {
   "cell_type": "code",
   "execution_count": 3,
   "id": "477584dd",
   "metadata": {},
   "outputs": [
    {
     "data": {
      "text/html": [
       "<div>\n",
       "<style scoped>\n",
       "    .dataframe tbody tr th:only-of-type {\n",
       "        vertical-align: middle;\n",
       "    }\n",
       "\n",
       "    .dataframe tbody tr th {\n",
       "        vertical-align: top;\n",
       "    }\n",
       "\n",
       "    .dataframe thead th {\n",
       "        text-align: right;\n",
       "    }\n",
       "</style>\n",
       "<table border=\"1\" class=\"dataframe\">\n",
       "  <thead>\n",
       "    <tr style=\"text-align: right;\">\n",
       "      <th></th>\n",
       "      <th>id</th>\n",
       "      <th>click</th>\n",
       "      <th>hour</th>\n",
       "      <th>C1</th>\n",
       "      <th>banner_pos</th>\n",
       "      <th>site_id</th>\n",
       "      <th>site_domain</th>\n",
       "      <th>site_category</th>\n",
       "      <th>app_id</th>\n",
       "      <th>app_domain</th>\n",
       "      <th>...</th>\n",
       "      <th>device_type</th>\n",
       "      <th>device_conn_type</th>\n",
       "      <th>C14</th>\n",
       "      <th>C15</th>\n",
       "      <th>C16</th>\n",
       "      <th>C17</th>\n",
       "      <th>C18</th>\n",
       "      <th>C19</th>\n",
       "      <th>C20</th>\n",
       "      <th>C21</th>\n",
       "    </tr>\n",
       "  </thead>\n",
       "  <tbody>\n",
       "    <tr>\n",
       "      <th>0</th>\n",
       "      <td>1.000009e+18</td>\n",
       "      <td>0</td>\n",
       "      <td>14102100</td>\n",
       "      <td>1005</td>\n",
       "      <td>0</td>\n",
       "      <td>1fbe01fe</td>\n",
       "      <td>f3845767</td>\n",
       "      <td>28905ebd</td>\n",
       "      <td>ecad2386</td>\n",
       "      <td>7801e8d9</td>\n",
       "      <td>...</td>\n",
       "      <td>1</td>\n",
       "      <td>2</td>\n",
       "      <td>15706</td>\n",
       "      <td>320</td>\n",
       "      <td>50</td>\n",
       "      <td>1722</td>\n",
       "      <td>0</td>\n",
       "      <td>35</td>\n",
       "      <td>-1</td>\n",
       "      <td>79</td>\n",
       "    </tr>\n",
       "    <tr>\n",
       "      <th>1</th>\n",
       "      <td>1.000017e+19</td>\n",
       "      <td>0</td>\n",
       "      <td>14102100</td>\n",
       "      <td>1005</td>\n",
       "      <td>0</td>\n",
       "      <td>1fbe01fe</td>\n",
       "      <td>f3845767</td>\n",
       "      <td>28905ebd</td>\n",
       "      <td>ecad2386</td>\n",
       "      <td>7801e8d9</td>\n",
       "      <td>...</td>\n",
       "      <td>1</td>\n",
       "      <td>0</td>\n",
       "      <td>15704</td>\n",
       "      <td>320</td>\n",
       "      <td>50</td>\n",
       "      <td>1722</td>\n",
       "      <td>0</td>\n",
       "      <td>35</td>\n",
       "      <td>100084</td>\n",
       "      <td>79</td>\n",
       "    </tr>\n",
       "    <tr>\n",
       "      <th>2</th>\n",
       "      <td>1.000037e+19</td>\n",
       "      <td>0</td>\n",
       "      <td>14102100</td>\n",
       "      <td>1005</td>\n",
       "      <td>0</td>\n",
       "      <td>1fbe01fe</td>\n",
       "      <td>f3845767</td>\n",
       "      <td>28905ebd</td>\n",
       "      <td>ecad2386</td>\n",
       "      <td>7801e8d9</td>\n",
       "      <td>...</td>\n",
       "      <td>1</td>\n",
       "      <td>0</td>\n",
       "      <td>15704</td>\n",
       "      <td>320</td>\n",
       "      <td>50</td>\n",
       "      <td>1722</td>\n",
       "      <td>0</td>\n",
       "      <td>35</td>\n",
       "      <td>100084</td>\n",
       "      <td>79</td>\n",
       "    </tr>\n",
       "    <tr>\n",
       "      <th>3</th>\n",
       "      <td>1.000064e+19</td>\n",
       "      <td>0</td>\n",
       "      <td>14102100</td>\n",
       "      <td>1005</td>\n",
       "      <td>0</td>\n",
       "      <td>1fbe01fe</td>\n",
       "      <td>f3845767</td>\n",
       "      <td>28905ebd</td>\n",
       "      <td>ecad2386</td>\n",
       "      <td>7801e8d9</td>\n",
       "      <td>...</td>\n",
       "      <td>1</td>\n",
       "      <td>0</td>\n",
       "      <td>15706</td>\n",
       "      <td>320</td>\n",
       "      <td>50</td>\n",
       "      <td>1722</td>\n",
       "      <td>0</td>\n",
       "      <td>35</td>\n",
       "      <td>100084</td>\n",
       "      <td>79</td>\n",
       "    </tr>\n",
       "    <tr>\n",
       "      <th>4</th>\n",
       "      <td>1.000068e+19</td>\n",
       "      <td>0</td>\n",
       "      <td>14102100</td>\n",
       "      <td>1005</td>\n",
       "      <td>1</td>\n",
       "      <td>fe8cc448</td>\n",
       "      <td>9166c161</td>\n",
       "      <td>0569f928</td>\n",
       "      <td>ecad2386</td>\n",
       "      <td>7801e8d9</td>\n",
       "      <td>...</td>\n",
       "      <td>1</td>\n",
       "      <td>0</td>\n",
       "      <td>18993</td>\n",
       "      <td>320</td>\n",
       "      <td>50</td>\n",
       "      <td>2161</td>\n",
       "      <td>0</td>\n",
       "      <td>35</td>\n",
       "      <td>-1</td>\n",
       "      <td>157</td>\n",
       "    </tr>\n",
       "  </tbody>\n",
       "</table>\n",
       "<p>5 rows × 24 columns</p>\n",
       "</div>"
      ],
      "text/plain": [
       "             id  click      hour    C1  banner_pos   site_id site_domain  \\\n",
       "0  1.000009e+18      0  14102100  1005           0  1fbe01fe    f3845767   \n",
       "1  1.000017e+19      0  14102100  1005           0  1fbe01fe    f3845767   \n",
       "2  1.000037e+19      0  14102100  1005           0  1fbe01fe    f3845767   \n",
       "3  1.000064e+19      0  14102100  1005           0  1fbe01fe    f3845767   \n",
       "4  1.000068e+19      0  14102100  1005           1  fe8cc448    9166c161   \n",
       "\n",
       "  site_category    app_id app_domain  ... device_type device_conn_type    C14  \\\n",
       "0      28905ebd  ecad2386   7801e8d9  ...           1                2  15706   \n",
       "1      28905ebd  ecad2386   7801e8d9  ...           1                0  15704   \n",
       "2      28905ebd  ecad2386   7801e8d9  ...           1                0  15704   \n",
       "3      28905ebd  ecad2386   7801e8d9  ...           1                0  15706   \n",
       "4      0569f928  ecad2386   7801e8d9  ...           1                0  18993   \n",
       "\n",
       "   C15  C16   C17  C18  C19     C20  C21  \n",
       "0  320   50  1722    0   35      -1   79  \n",
       "1  320   50  1722    0   35  100084   79  \n",
       "2  320   50  1722    0   35  100084   79  \n",
       "3  320   50  1722    0   35  100084   79  \n",
       "4  320   50  2161    0   35      -1  157  \n",
       "\n",
       "[5 rows x 24 columns]"
      ]
     },
     "execution_count": 3,
     "metadata": {},
     "output_type": "execute_result"
    }
   ],
   "source": [
    "# First look at the data\n",
    "df.head()"
   ]
  },
  {
   "cell_type": "markdown",
   "id": "a48c5d35",
   "metadata": {},
   "source": [
    "### Respective data fields\n",
    "\n",
    "* *id*: ad identifier such as 1000009418151094273, 10000169349117863715\n",
    "* *click*: 0 for non-click, 1 for click\n",
    "* *hour*: in the format of YYMMDDHH, for example 21090200\n",
    "* *C1*: anonymized categorical variable, such as 1005, 1002\n",
    "* *banner_pos*: where a banner is located - 1 and 0\n",
    "* *site_id*: site_identifier, such as 1fb01fe, fe8cc448, d6137915\n",
    "* *site_domain*: hashed site category, such as 'bb1ef334', 'f3845767'\n",
    "* *site_category*: hashed site category, such as 18905ebd, 28905ebd\n",
    "* *app_id*: mobile app identifier\n",
    "* app_domain\n",
    "* app_category\n",
    "* *device_id*: mobile device identifier\n",
    "* *device_ip*: IP address\n",
    "* *device_model*: such as iPhone6, Samsung - hashed\n",
    "* *device_type*: such as tablet, smartphone - hashed\n",
    "* *device_conn_type*: Wi-Fi or 3G for example - again hashed\n",
    "* *C14-C21*: anonymized categorical variables"
   ]
  },
  {
   "cell_type": "markdown",
   "id": "a48cbe9d",
   "metadata": {},
   "source": [
    "1. Looking at the data types"
   ]
  },
  {
   "cell_type": "code",
   "execution_count": 4,
   "id": "2420180b",
   "metadata": {},
   "outputs": [
    {
     "name": "stdout",
     "output_type": "stream",
     "text": [
      "<class 'pandas.core.frame.DataFrame'>\n",
      "RangeIndex: 40428967 entries, 0 to 40428966\n",
      "Data columns (total 24 columns):\n",
      " #   Column            Dtype  \n",
      "---  ------            -----  \n",
      " 0   id                float64\n",
      " 1   click             int64  \n",
      " 2   hour              int64  \n",
      " 3   C1                int64  \n",
      " 4   banner_pos        int64  \n",
      " 5   site_id           object \n",
      " 6   site_domain       object \n",
      " 7   site_category     object \n",
      " 8   app_id            object \n",
      " 9   app_domain        object \n",
      " 10  app_category      object \n",
      " 11  device_id         object \n",
      " 12  device_ip         object \n",
      " 13  device_model      object \n",
      " 14  device_type       int64  \n",
      " 15  device_conn_type  int64  \n",
      " 16  C14               int64  \n",
      " 17  C15               int64  \n",
      " 18  C16               int64  \n",
      " 19  C17               int64  \n",
      " 20  C18               int64  \n",
      " 21  C19               int64  \n",
      " 22  C20               int64  \n",
      " 23  C21               int64  \n",
      "dtypes: float64(1), int64(14), object(9)\n",
      "memory usage: 7.2+ GB\n"
     ]
    }
   ],
   "source": [
    "df.info()\n",
    "# df.dtypes"
   ]
  },
  {
   "cell_type": "markdown",
   "id": "802cf592",
   "metadata": {},
   "source": [
    "2. How many oberevations each feature has?"
   ]
  },
  {
   "cell_type": "code",
   "execution_count": 5,
   "id": "9fa44504",
   "metadata": {},
   "outputs": [
    {
     "name": "stdout",
     "output_type": "stream",
     "text": [
      "id: 40428967\n",
      "click: 2\n",
      "hour: 240\n",
      "C1: 7\n",
      "banner_pos: 7\n",
      "site_id: 4737\n",
      "site_domain: 7745\n",
      "site_category: 26\n",
      "app_id: 8552\n",
      "app_domain: 559\n",
      "app_category: 36\n",
      "device_id: 2686408\n",
      "device_ip: 6729486\n",
      "device_model: 8251\n",
      "device_type: 5\n",
      "device_conn_type: 4\n",
      "C14: 2626\n",
      "C15: 8\n",
      "C16: 9\n",
      "C17: 435\n",
      "C18: 4\n",
      "C19: 68\n",
      "C20: 172\n",
      "C21: 60\n"
     ]
    }
   ],
   "source": [
    "for name in df.columns:\n",
    "    print(\"%s: %s\" % (name, len(df[name].unique())))"
   ]
  },
  {
   "cell_type": "markdown",
   "id": "a263fb26",
   "metadata": {},
   "source": [
    "3. How many observations and features there are?"
   ]
  },
  {
   "cell_type": "code",
   "execution_count": 6,
   "id": "c1c9a551",
   "metadata": {},
   "outputs": [
    {
     "name": "stdout",
     "output_type": "stream",
     "text": [
      "Observations: 40428967\n",
      "Features: 24\n"
     ]
    }
   ],
   "source": [
    "print(\"Observations: \" + str(len(df.index)))\n",
    "print(\"Features: \" + str(len(df.columns)))\n",
    "\n",
    "# # Alternative way:\n",
    "# train_df.shape"
   ]
  },
  {
   "cell_type": "markdown",
   "id": "aa7be624",
   "metadata": {},
   "source": [
    "4. Which of the features are numeric?"
   ]
  },
  {
   "cell_type": "code",
   "execution_count": 7,
   "id": "fcb85383",
   "metadata": {},
   "outputs": [
    {
     "data": {
      "text/plain": [
       "Index(['id', 'click', 'hour', 'C1', 'banner_pos', 'device_type',\n",
       "       'device_conn_type', 'C14', 'C15', 'C16', 'C17', 'C18', 'C19', 'C20',\n",
       "       'C21'],\n",
       "      dtype='object')"
      ]
     },
     "execution_count": 7,
     "metadata": {},
     "output_type": "execute_result"
    }
   ],
   "source": [
    "cols = df.columns\n",
    "num_cols = df._get_numeric_data().columns\n",
    "num_cols"
   ]
  },
  {
   "cell_type": "markdown",
   "id": "e4739ff1",
   "metadata": {},
   "source": [
    "5. Which features are categorical?"
   ]
  },
  {
   "cell_type": "code",
   "execution_count": 8,
   "id": "7acd94be",
   "metadata": {},
   "outputs": [
    {
     "data": {
      "text/plain": [
       "['device_ip',\n",
       " 'site_category',\n",
       " 'device_model',\n",
       " 'app_domain',\n",
       " 'device_id',\n",
       " 'app_category',\n",
       " 'site_domain',\n",
       " 'site_id',\n",
       " 'app_id']"
      ]
     },
     "execution_count": 8,
     "metadata": {},
     "output_type": "execute_result"
    }
   ],
   "source": [
    "cat_cols = list(set(cols) - set(num_cols))\n",
    "cat_cols"
   ]
  },
  {
   "cell_type": "markdown",
   "id": "adfe979a",
   "metadata": {},
   "source": [
    "6. Looking at clicks"
   ]
  },
  {
   "cell_type": "code",
   "execution_count": 9,
   "id": "bf3d32a2",
   "metadata": {},
   "outputs": [
    {
     "name": "stdout",
     "output_type": "stream",
     "text": [
      "Number of customers who didnt click on ad: 33563901\n",
      "Number of customers who clicked: 6865066\n",
      "Percentage of apply to non apply 4.889086426845714 %\n"
     ]
    },
    {
     "data": {
      "image/png": "[encoded data removed]",
      "text/plain": [
       "<Figure size 432x288 with 1 Axes>"
      ]
     },
     "metadata": {
      "needs_background": "light"
     },
     "output_type": "display_data"
    }
   ],
   "source": [
    "sns.countplot(x='click', data=df);\n",
    "plt.title('Click Rate')\n",
    "plt.ylabel('Count of customers')\n",
    "plt.xlabel('Clicks')\n",
    "\n",
    "print('Number of customers who didnt click on ad:',df['click'].value_counts()[0])\n",
    "print('Number of customers who clicked:',df['click'].value_counts()[1])\n",
    "print('Percentage of apply to non apply',df['click'].value_counts()[0]/df['click'].value_counts()[1],'%')"
   ]
  },
  {
   "cell_type": "markdown",
   "id": "e976575b",
   "metadata": {},
   "source": [
    "**Observation**\n",
    "The data is imbalanced and so we might have to use techniques like resampling (undersampling or oversampling) or use metrics like AUC-ROC curve or AUPRC or SMOTE to handle imbalanced data. Lets explore further which will help us decide what technique should we use. Note: It is already given in the dataset that I have to use AUC as the metric."
   ]
  },
  {
   "cell_type": "markdown",
   "id": "d22ab7d1",
   "metadata": {},
   "source": [
    "7. Checking the correlation between features\n"
   ]
  },
  {
   "cell_type": "code",
   "execution_count": 10,
   "id": "53770274",
   "metadata": {},
   "outputs": [
    {
     "data": {
      "image/png": "[encoded data removed]",
      "text/plain": [
       "<Figure size 1080x1080 with 2 Axes>"
      ]
     },
     "metadata": {
      "needs_background": "light"
     },
     "output_type": "display_data"
    }
   ],
   "source": [
    "cor = df.corr()\n",
    "plt.figure(figsize=(15,15))\n",
    "sns.heatmap(cor, annot=True, cmap=plt.cm.Reds)\n",
    "plt.show()"
   ]
  },
  {
   "cell_type": "markdown",
   "id": "6373394b",
   "metadata": {},
   "source": [
    "**Observation:** \n",
    "After correlation and data type inspection it seems safe to drop features of 'id', 'click', 'hour', device_id' & 'device_ip'."
   ]
  },
  {
   "cell_type": "markdown",
   "id": "d4924a56",
   "metadata": {},
   "source": [
    "8. Checking outliers"
   ]
  },
  {
   "cell_type": "code",
   "execution_count": 11,
   "id": "6e33a0ce",
   "metadata": {},
   "outputs": [
    {
     "data": {
      "image/png": "[encoded data removed]",
      "text/plain": [
       "<Figure size 648x4480 with 9 Axes>"
      ]
     },
     "metadata": {
      "needs_background": "light"
     },
     "output_type": "display_data"
    }
   ],
   "source": [
    "l = ['C1', 'C14',\n",
    "       'C15', 'C16', 'C17',\n",
    "       'C18','C19', 'C20', 'C21']\n",
    "number_of_columns=9\n",
    "number_of_rows = len(l)-1/number_of_columns\n",
    "plt.figure(figsize=(number_of_columns,7*number_of_rows))\n",
    "for i in range(0,len(l)):\n",
    "    plt.subplot(number_of_rows + 1,number_of_columns,i+1)\n",
    "    sns.set_style('whitegrid')\n",
    "    sns.boxplot(df[l[i]],color='green',orient='v')\n",
    "    plt.tight_layout()"
   ]
  },
  {
   "cell_type": "markdown",
   "id": "b61c5ce8",
   "metadata": {},
   "source": [
    "**Observation:**\n",
    "As we see there are a lot of outliers in the data"
   ]
  },
  {
   "cell_type": "markdown",
   "id": "b51a5ce4",
   "metadata": {},
   "source": [
    "9. Checking the statistics"
   ]
  },
  {
   "cell_type": "code",
   "execution_count": 12,
   "id": "294b1a18",
   "metadata": {},
   "outputs": [
    {
     "data": {
      "text/html": [
       "<div>\n",
       "<style scoped>\n",
       "    .dataframe tbody tr th:only-of-type {\n",
       "        vertical-align: middle;\n",
       "    }\n",
       "\n",
       "    .dataframe tbody tr th {\n",
       "        vertical-align: top;\n",
       "    }\n",
       "\n",
       "    .dataframe thead th {\n",
       "        text-align: right;\n",
       "    }\n",
       "</style>\n",
       "<table border=\"1\" class=\"dataframe\">\n",
       "  <thead>\n",
       "    <tr style=\"text-align: right;\">\n",
       "      <th></th>\n",
       "      <th>id</th>\n",
       "      <th>click</th>\n",
       "      <th>hour</th>\n",
       "      <th>C1</th>\n",
       "      <th>banner_pos</th>\n",
       "      <th>site_id</th>\n",
       "      <th>site_domain</th>\n",
       "      <th>site_category</th>\n",
       "      <th>app_id</th>\n",
       "      <th>app_domain</th>\n",
       "      <th>...</th>\n",
       "      <th>device_type</th>\n",
       "      <th>device_conn_type</th>\n",
       "      <th>C14</th>\n",
       "      <th>C15</th>\n",
       "      <th>C16</th>\n",
       "      <th>C17</th>\n",
       "      <th>C18</th>\n",
       "      <th>C19</th>\n",
       "      <th>C20</th>\n",
       "      <th>C21</th>\n",
       "    </tr>\n",
       "  </thead>\n",
       "  <tbody>\n",
       "    <tr>\n",
       "      <th>count</th>\n",
       "      <td>4.042897e+07</td>\n",
       "      <td>4.042897e+07</td>\n",
       "      <td>4.042897e+07</td>\n",
       "      <td>4.042897e+07</td>\n",
       "      <td>4.042897e+07</td>\n",
       "      <td>40428967</td>\n",
       "      <td>40428967</td>\n",
       "      <td>40428967</td>\n",
       "      <td>40428967</td>\n",
       "      <td>40428967</td>\n",
       "      <td>...</td>\n",
       "      <td>4.042897e+07</td>\n",
       "      <td>4.042897e+07</td>\n",
       "      <td>4.042897e+07</td>\n",
       "      <td>4.042897e+07</td>\n",
       "      <td>4.042897e+07</td>\n",
       "      <td>4.042897e+07</td>\n",
       "      <td>4.042897e+07</td>\n",
       "      <td>4.042897e+07</td>\n",
       "      <td>4.042897e+07</td>\n",
       "      <td>4.042897e+07</td>\n",
       "    </tr>\n",
       "    <tr>\n",
       "      <th>unique</th>\n",
       "      <td>NaN</td>\n",
       "      <td>NaN</td>\n",
       "      <td>NaN</td>\n",
       "      <td>NaN</td>\n",
       "      <td>NaN</td>\n",
       "      <td>4737</td>\n",
       "      <td>7745</td>\n",
       "      <td>26</td>\n",
       "      <td>8552</td>\n",
       "      <td>559</td>\n",
       "      <td>...</td>\n",
       "      <td>NaN</td>\n",
       "      <td>NaN</td>\n",
       "      <td>NaN</td>\n",
       "      <td>NaN</td>\n",
       "      <td>NaN</td>\n",
       "      <td>NaN</td>\n",
       "      <td>NaN</td>\n",
       "      <td>NaN</td>\n",
       "      <td>NaN</td>\n",
       "      <td>NaN</td>\n",
       "    </tr>\n",
       "    <tr>\n",
       "      <th>top</th>\n",
       "      <td>NaN</td>\n",
       "      <td>NaN</td>\n",
       "      <td>NaN</td>\n",
       "      <td>NaN</td>\n",
       "      <td>NaN</td>\n",
       "      <td>85f751fd</td>\n",
       "      <td>c4e18dd6</td>\n",
       "      <td>50e219e0</td>\n",
       "      <td>ecad2386</td>\n",
       "      <td>7801e8d9</td>\n",
       "      <td>...</td>\n",
       "      <td>NaN</td>\n",
       "      <td>NaN</td>\n",
       "      <td>NaN</td>\n",
       "      <td>NaN</td>\n",
       "      <td>NaN</td>\n",
       "      <td>NaN</td>\n",
       "      <td>NaN</td>\n",
       "      <td>NaN</td>\n",
       "      <td>NaN</td>\n",
       "      <td>NaN</td>\n",
       "    </tr>\n",
       "    <tr>\n",
       "      <th>freq</th>\n",
       "      <td>NaN</td>\n",
       "      <td>NaN</td>\n",
       "      <td>NaN</td>\n",
       "      <td>NaN</td>\n",
       "      <td>NaN</td>\n",
       "      <td>14596137</td>\n",
       "      <td>15131739</td>\n",
       "      <td>16537234</td>\n",
       "      <td>25832830</td>\n",
       "      <td>27237087</td>\n",
       "      <td>...</td>\n",
       "      <td>NaN</td>\n",
       "      <td>NaN</td>\n",
       "      <td>NaN</td>\n",
       "      <td>NaN</td>\n",
       "      <td>NaN</td>\n",
       "      <td>NaN</td>\n",
       "      <td>NaN</td>\n",
       "      <td>NaN</td>\n",
       "      <td>NaN</td>\n",
       "      <td>NaN</td>\n",
       "    </tr>\n",
       "    <tr>\n",
       "      <th>mean</th>\n",
       "      <td>9.223017e+18</td>\n",
       "      <td>1.698056e-01</td>\n",
       "      <td>1.410256e+07</td>\n",
       "      <td>1.004968e+03</td>\n",
       "      <td>2.880146e-01</td>\n",
       "      <td>NaN</td>\n",
       "      <td>NaN</td>\n",
       "      <td>NaN</td>\n",
       "      <td>NaN</td>\n",
       "      <td>NaN</td>\n",
       "      <td>...</td>\n",
       "      <td>1.015305e+00</td>\n",
       "      <td>3.313150e-01</td>\n",
       "      <td>1.884181e+04</td>\n",
       "      <td>3.188831e+02</td>\n",
       "      <td>6.010201e+01</td>\n",
       "      <td>2.112601e+03</td>\n",
       "      <td>1.432499e+00</td>\n",
       "      <td>2.271444e+02</td>\n",
       "      <td>5.321685e+04</td>\n",
       "      <td>8.338229e+01</td>\n",
       "    </tr>\n",
       "    <tr>\n",
       "      <th>std</th>\n",
       "      <td>5.325443e+18</td>\n",
       "      <td>3.754620e-01</td>\n",
       "      <td>2.966837e+02</td>\n",
       "      <td>1.094586e+00</td>\n",
       "      <td>5.063820e-01</td>\n",
       "      <td>NaN</td>\n",
       "      <td>NaN</td>\n",
       "      <td>NaN</td>\n",
       "      <td>NaN</td>\n",
       "      <td>NaN</td>\n",
       "      <td>...</td>\n",
       "      <td>5.274336e-01</td>\n",
       "      <td>8.547935e-01</td>\n",
       "      <td>4.959457e+03</td>\n",
       "      <td>2.127250e+01</td>\n",
       "      <td>4.729538e+01</td>\n",
       "      <td>6.094124e+02</td>\n",
       "      <td>1.326227e+00</td>\n",
       "      <td>3.510221e+02</td>\n",
       "      <td>4.995682e+04</td>\n",
       "      <td>7.028996e+01</td>\n",
       "    </tr>\n",
       "    <tr>\n",
       "      <th>min</th>\n",
       "      <td>5.211594e+11</td>\n",
       "      <td>0.000000e+00</td>\n",
       "      <td>1.410210e+07</td>\n",
       "      <td>1.001000e+03</td>\n",
       "      <td>0.000000e+00</td>\n",
       "      <td>NaN</td>\n",
       "      <td>NaN</td>\n",
       "      <td>NaN</td>\n",
       "      <td>NaN</td>\n",
       "      <td>NaN</td>\n",
       "      <td>...</td>\n",
       "      <td>0.000000e+00</td>\n",
       "      <td>0.000000e+00</td>\n",
       "      <td>3.750000e+02</td>\n",
       "      <td>1.200000e+02</td>\n",
       "      <td>2.000000e+01</td>\n",
       "      <td>1.120000e+02</td>\n",
       "      <td>0.000000e+00</td>\n",
       "      <td>3.300000e+01</td>\n",
       "      <td>-1.000000e+00</td>\n",
       "      <td>1.000000e+00</td>\n",
       "    </tr>\n",
       "    <tr>\n",
       "      <th>25%</th>\n",
       "      <td>4.611181e+18</td>\n",
       "      <td>0.000000e+00</td>\n",
       "      <td>1.410230e+07</td>\n",
       "      <td>1.005000e+03</td>\n",
       "      <td>0.000000e+00</td>\n",
       "      <td>NaN</td>\n",
       "      <td>NaN</td>\n",
       "      <td>NaN</td>\n",
       "      <td>NaN</td>\n",
       "      <td>NaN</td>\n",
       "      <td>...</td>\n",
       "      <td>1.000000e+00</td>\n",
       "      <td>0.000000e+00</td>\n",
       "      <td>1.692000e+04</td>\n",
       "      <td>3.200000e+02</td>\n",
       "      <td>5.000000e+01</td>\n",
       "      <td>1.863000e+03</td>\n",
       "      <td>0.000000e+00</td>\n",
       "      <td>3.500000e+01</td>\n",
       "      <td>-1.000000e+00</td>\n",
       "      <td>2.300000e+01</td>\n",
       "    </tr>\n",
       "    <tr>\n",
       "      <th>50%</th>\n",
       "      <td>9.223224e+18</td>\n",
       "      <td>0.000000e+00</td>\n",
       "      <td>1.410260e+07</td>\n",
       "      <td>1.005000e+03</td>\n",
       "      <td>0.000000e+00</td>\n",
       "      <td>NaN</td>\n",
       "      <td>NaN</td>\n",
       "      <td>NaN</td>\n",
       "      <td>NaN</td>\n",
       "      <td>NaN</td>\n",
       "      <td>...</td>\n",
       "      <td>1.000000e+00</td>\n",
       "      <td>0.000000e+00</td>\n",
       "      <td>2.034600e+04</td>\n",
       "      <td>3.200000e+02</td>\n",
       "      <td>5.000000e+01</td>\n",
       "      <td>2.323000e+03</td>\n",
       "      <td>2.000000e+00</td>\n",
       "      <td>3.900000e+01</td>\n",
       "      <td>1.000480e+05</td>\n",
       "      <td>6.100000e+01</td>\n",
       "    </tr>\n",
       "    <tr>\n",
       "      <th>75%</th>\n",
       "      <td>1.383561e+19</td>\n",
       "      <td>0.000000e+00</td>\n",
       "      <td>1.410281e+07</td>\n",
       "      <td>1.005000e+03</td>\n",
       "      <td>1.000000e+00</td>\n",
       "      <td>NaN</td>\n",
       "      <td>NaN</td>\n",
       "      <td>NaN</td>\n",
       "      <td>NaN</td>\n",
       "      <td>NaN</td>\n",
       "      <td>...</td>\n",
       "      <td>1.000000e+00</td>\n",
       "      <td>0.000000e+00</td>\n",
       "      <td>2.189400e+04</td>\n",
       "      <td>3.200000e+02</td>\n",
       "      <td>5.000000e+01</td>\n",
       "      <td>2.526000e+03</td>\n",
       "      <td>3.000000e+00</td>\n",
       "      <td>1.710000e+02</td>\n",
       "      <td>1.000930e+05</td>\n",
       "      <td>1.010000e+02</td>\n",
       "    </tr>\n",
       "    <tr>\n",
       "      <th>max</th>\n",
       "      <td>1.844674e+19</td>\n",
       "      <td>1.000000e+00</td>\n",
       "      <td>1.410302e+07</td>\n",
       "      <td>1.012000e+03</td>\n",
       "      <td>7.000000e+00</td>\n",
       "      <td>NaN</td>\n",
       "      <td>NaN</td>\n",
       "      <td>NaN</td>\n",
       "      <td>NaN</td>\n",
       "      <td>NaN</td>\n",
       "      <td>...</td>\n",
       "      <td>5.000000e+00</td>\n",
       "      <td>5.000000e+00</td>\n",
       "      <td>2.405200e+04</td>\n",
       "      <td>1.024000e+03</td>\n",
       "      <td>1.024000e+03</td>\n",
       "      <td>2.758000e+03</td>\n",
       "      <td>3.000000e+00</td>\n",
       "      <td>1.959000e+03</td>\n",
       "      <td>1.002480e+05</td>\n",
       "      <td>2.550000e+02</td>\n",
       "    </tr>\n",
       "  </tbody>\n",
       "</table>\n",
       "<p>11 rows × 24 columns</p>\n",
       "</div>"
      ],
      "text/plain": [
       "                  id         click          hour            C1    banner_pos  \\\n",
       "count   4.042897e+07  4.042897e+07  4.042897e+07  4.042897e+07  4.042897e+07   \n",
       "unique           NaN           NaN           NaN           NaN           NaN   \n",
       "top              NaN           NaN           NaN           NaN           NaN   \n",
       "freq             NaN           NaN           NaN           NaN           NaN   \n",
       "mean    9.223017e+18  1.698056e-01  1.410256e+07  1.004968e+03  2.880146e-01   \n",
       "std     5.325443e+18  3.754620e-01  2.966837e+02  1.094586e+00  5.063820e-01   \n",
       "min     5.211594e+11  0.000000e+00  1.410210e+07  1.001000e+03  0.000000e+00   \n",
       "25%     4.611181e+18  0.000000e+00  1.410230e+07  1.005000e+03  0.000000e+00   \n",
       "50%     9.223224e+18  0.000000e+00  1.410260e+07  1.005000e+03  0.000000e+00   \n",
       "75%     1.383561e+19  0.000000e+00  1.410281e+07  1.005000e+03  1.000000e+00   \n",
       "max     1.844674e+19  1.000000e+00  1.410302e+07  1.012000e+03  7.000000e+00   \n",
       "\n",
       "         site_id site_domain site_category    app_id app_domain  ...  \\\n",
       "count   40428967    40428967      40428967  40428967   40428967  ...   \n",
       "unique      4737        7745            26      8552        559  ...   \n",
       "top     85f751fd    c4e18dd6      50e219e0  ecad2386   7801e8d9  ...   \n",
       "freq    14596137    15131739      16537234  25832830   27237087  ...   \n",
       "mean         NaN         NaN           NaN       NaN        NaN  ...   \n",
       "std          NaN         NaN           NaN       NaN        NaN  ...   \n",
       "min          NaN         NaN           NaN       NaN        NaN  ...   \n",
       "25%          NaN         NaN           NaN       NaN        NaN  ...   \n",
       "50%          NaN         NaN           NaN       NaN        NaN  ...   \n",
       "75%          NaN         NaN           NaN       NaN        NaN  ...   \n",
       "max          NaN         NaN           NaN       NaN        NaN  ...   \n",
       "\n",
       "         device_type device_conn_type           C14           C15  \\\n",
       "count   4.042897e+07     4.042897e+07  4.042897e+07  4.042897e+07   \n",
       "unique           NaN              NaN           NaN           NaN   \n",
       "top              NaN              NaN           NaN           NaN   \n",
       "freq             NaN              NaN           NaN           NaN   \n",
       "mean    1.015305e+00     3.313150e-01  1.884181e+04  3.188831e+02   \n",
       "std     5.274336e-01     8.547935e-01  4.959457e+03  2.127250e+01   \n",
       "min     0.000000e+00     0.000000e+00  3.750000e+02  1.200000e+02   \n",
       "25%     1.000000e+00     0.000000e+00  1.692000e+04  3.200000e+02   \n",
       "50%     1.000000e+00     0.000000e+00  2.034600e+04  3.200000e+02   \n",
       "75%     1.000000e+00     0.000000e+00  2.189400e+04  3.200000e+02   \n",
       "max     5.000000e+00     5.000000e+00  2.405200e+04  1.024000e+03   \n",
       "\n",
       "                 C16           C17           C18           C19           C20  \\\n",
       "count   4.042897e+07  4.042897e+07  4.042897e+07  4.042897e+07  4.042897e+07   \n",
       "unique           NaN           NaN           NaN           NaN           NaN   \n",
       "top              NaN           NaN           NaN           NaN           NaN   \n",
       "freq             NaN           NaN           NaN           NaN           NaN   \n",
       "mean    6.010201e+01  2.112601e+03  1.432499e+00  2.271444e+02  5.321685e+04   \n",
       "std     4.729538e+01  6.094124e+02  1.326227e+00  3.510221e+02  4.995682e+04   \n",
       "min     2.000000e+01  1.120000e+02  0.000000e+00  3.300000e+01 -1.000000e+00   \n",
       "25%     5.000000e+01  1.863000e+03  0.000000e+00  3.500000e+01 -1.000000e+00   \n",
       "50%     5.000000e+01  2.323000e+03  2.000000e+00  3.900000e+01  1.000480e+05   \n",
       "75%     5.000000e+01  2.526000e+03  3.000000e+00  1.710000e+02  1.000930e+05   \n",
       "max     1.024000e+03  2.758000e+03  3.000000e+00  1.959000e+03  1.002480e+05   \n",
       "\n",
       "                 C21  \n",
       "count   4.042897e+07  \n",
       "unique           NaN  \n",
       "top              NaN  \n",
       "freq             NaN  \n",
       "mean    8.338229e+01  \n",
       "std     7.028996e+01  \n",
       "min     1.000000e+00  \n",
       "25%     2.300000e+01  \n",
       "50%     6.100000e+01  \n",
       "75%     1.010000e+02  \n",
       "max     2.550000e+02  \n",
       "\n",
       "[11 rows x 24 columns]"
      ]
     },
     "execution_count": 12,
     "metadata": {},
     "output_type": "execute_result"
    }
   ],
   "source": [
    "df.describe(include = 'all')"
   ]
  },
  {
   "cell_type": "markdown",
   "id": "10275a1f",
   "metadata": {},
   "source": [
    "10. Checking the distribution\n",
    "*Positive* refers to the fact that a customer clicked on an ad while *Negative* he/she - didn't"
   ]
  },
  {
   "cell_type": "code",
   "execution_count": 13,
   "id": "8ca1d095",
   "metadata": {},
   "outputs": [
    {
     "data": {
      "image/png": "[encoded data removed]",
      "text/plain": [
       "<Figure size 432x288 with 1 Axes>"
      ]
     },
     "metadata": {},
     "output_type": "display_data"
    },
    {
     "data": {
      "image/png": "[encoded data removed]",
      "text/plain": [
       "<Figure size 432x288 with 1 Axes>"
      ]
     },
     "metadata": {},
     "output_type": "display_data"
    },
    {
     "data": {
      "image/png": "[encoded data removed]",
      "text/plain": [
       "<Figure size 432x288 with 1 Axes>"
      ]
     },
     "metadata": {},
     "output_type": "display_data"
    },
    {
     "data": {
      "image/png": "[encoded data removed]",
      "text/plain": [
       "<Figure size 432x288 with 1 Axes>"
      ]
     },
     "metadata": {},
     "output_type": "display_data"
    }
   ],
   "source": [
    "for feature in df.columns[14:18]:\n",
    "    ax = plt.subplot()\n",
    "    sns.distplot(df[df['click'] == 1][feature], bins=50, label='Positive')\n",
    "    sns.distplot(df[df['click'] == 0][feature], bins=50, label='Negative')\n",
    "    ax.set_xlabel('')\n",
    "    ax.set_title('Histogram of a feature: ' + str(feature))\n",
    "    plt.legend(loc='best')\n",
    "    plt.show()"
   ]
  },
  {
   "cell_type": "markdown",
   "id": "9b89a685",
   "metadata": {},
   "source": [
    "**Observation:**\n",
    "The linearity of some variables is a good practice to plot distribution graph and look for skewness of features. Kernel density estimate (kde) was a useful tool for plotting the shape of a distribution. From here that there seems to be some symmetry amongst the features we inspected. \n"
   ]
  },
  {
   "cell_type": "markdown",
   "id": "f80d7352",
   "metadata": {},
   "source": [
    "# Data Cleaning"
   ]
  },
  {
   "cell_type": "markdown",
   "id": "68df372c",
   "metadata": {},
   "source": [
    "1. Checking if there are any duplicates"
   ]
  },
  {
   "cell_type": "code",
   "execution_count": 14,
   "id": "3a2b6639",
   "metadata": {},
   "outputs": [
    {
     "data": {
      "text/plain": [
       "0"
      ]
     },
     "execution_count": 14,
     "metadata": {},
     "output_type": "execute_result"
    }
   ],
   "source": [
    "df.duplicated(df.columns)\n",
    "df.duplicated(df.columns).sum()"
   ]
  },
  {
   "cell_type": "markdown",
   "id": "c20cb203",
   "metadata": {},
   "source": [
    "2. Checking if there are null values\n"
   ]
  },
  {
   "cell_type": "code",
   "execution_count": 15,
   "id": "5d022091",
   "metadata": {},
   "outputs": [
    {
     "data": {
      "text/plain": [
       "id                  0\n",
       "click               0\n",
       "hour                0\n",
       "C1                  0\n",
       "banner_pos          0\n",
       "site_id             0\n",
       "site_domain         0\n",
       "site_category       0\n",
       "app_id              0\n",
       "app_domain          0\n",
       "app_category        0\n",
       "device_id           0\n",
       "device_ip           0\n",
       "device_model        0\n",
       "device_type         0\n",
       "device_conn_type    0\n",
       "C14                 0\n",
       "C15                 0\n",
       "C16                 0\n",
       "C17                 0\n",
       "C18                 0\n",
       "C19                 0\n",
       "C20                 0\n",
       "C21                 0\n",
       "dtype: int64"
      ]
     },
     "execution_count": 15,
     "metadata": {},
     "output_type": "execute_result"
    }
   ],
   "source": [
    "df.isnull().sum()"
   ]
  },
  {
   "cell_type": "markdown",
   "id": "36e172e0",
   "metadata": {},
   "source": [
    "3. Checking value counts for device_type feature"
   ]
  },
  {
   "cell_type": "code",
   "execution_count": 16,
   "id": "29fc1ec4",
   "metadata": {},
   "outputs": [
    {
     "data": {
      "text/plain": [
       "1    37304667\n",
       "0     2220812\n",
       "4      774272\n",
       "5      129185\n",
       "2          31\n",
       "Name: device_type, dtype: int64"
      ]
     },
     "execution_count": 16,
     "metadata": {},
     "output_type": "execute_result"
    }
   ],
   "source": [
    "df['device_type'].value_counts().head()"
   ]
  },
  {
   "cell_type": "markdown",
   "id": "90e231a8",
   "metadata": {},
   "source": [
    "**Observation:**\n",
    "Because there aren't null values, so we don't have to consider imputing those features or dealing with null values at all."
   ]
  },
  {
   "cell_type": "markdown",
   "id": "b34d8606",
   "metadata": {},
   "source": [
    "**Note: I will not be removing outliers since there is possibility of them carrying important information which can help us detect the apply and non apply cases**"
   ]
  },
  {
   "cell_type": "markdown",
   "id": "c37858c9",
   "metadata": {},
   "source": [
    "# Modelling\n",
    "\n",
    "Involves **Feature Engineering** by removing unused features \n"
   ]
  },
  {
   "cell_type": "code",
   "execution_count": 25,
   "id": "6e375fb9",
   "metadata": {},
   "outputs": [
    {
     "name": "stdout",
     "output_type": "stream",
     "text": [
      "(40428967, 19)\n",
      "  (0, 2)\t1.0\n",
      "  (0, 6)\t1.0\n",
      "  (0, 188)\t1.0\n",
      "  (0, 2608)\t1.0\n",
      "  (0, 2679)\t1.0\n",
      "  (0, 3771)\t1.0\n",
      "  (0, 3885)\t1.0\n",
      "  (0, 3929)\t1.0\n",
      "  (0, 4879)\t1.0\n",
      "  (0, 7315)\t1.0\n",
      "  (0, 7319)\t1.0\n",
      "  (0, 7475)\t1.0\n",
      "  (0, 7824)\t1.0\n",
      "  (0, 7828)\t1.0\n",
      "  (0, 7869)\t1.0\n",
      "  (0, 7977)\t1.0\n",
      "  (0, 7982)\t1.0\n",
      "  (0, 8021)\t1.0\n",
      "  (0, 8189)\t1.0\n"
     ]
    }
   ],
   "source": [
    "n_rows = 300000\n",
    "\n",
    "X = df.drop(['click', 'id', 'hour', 'device_id', 'device_ip'], axis=1).values\n",
    "# X = df.drop(['click', 'id', 'hour', 'device_id', 'device_ip', 'site_domain', 'site_category', 'app_id', 'app_domain', 'app_category', 'device_id', 'device_ip'], axis=1).valuessite_id           object \n",
    "Y = df['click'].values\n",
    "\n",
    "print(X.shape)\n",
    "\n",
    "n_train = int(n_rows * 0.9)\n",
    "X_train = X[:n_train]\n",
    "Y_train = Y[:n_train]\n",
    "X_test = X[n_train:]\n",
    "Y_test = Y[n_train:]\n",
    "\n",
    "enc = OneHotEncoder(handle_unknown='ignore')\n",
    "X_train_enc = enc.fit_transform(X_train)\n",
    "\n",
    "X_train_enc[0]\n",
    "print(X_train_enc[0])\n",
    "\n",
    "X_test_enc = enc.transform(X_test)"
   ]
  },
  {
   "cell_type": "code",
   "execution_count": 27,
   "id": "b6ad8593",
   "metadata": {},
   "outputs": [],
   "source": [
    "X = df.drop('click',axis=1)\n",
    "y = df.click"
   ]
  },
  {
   "cell_type": "markdown",
   "id": "b85cfd6e",
   "metadata": {},
   "source": [
    "Assigning numerical and caetgorical variables"
   ]
  },
  {
   "cell_type": "code",
   "execution_count": 28,
   "id": "f2e724bd",
   "metadata": {},
   "outputs": [],
   "source": [
    "X_train,X_test,y_train,y_test = train_test_split(X,y,test_size = 0.3,random_state = 42)"
   ]
  },
  {
   "cell_type": "code",
   "execution_count": 29,
   "id": "dcf325e7",
   "metadata": {},
   "outputs": [
    {
     "name": "stdout",
     "output_type": "stream",
     "text": [
      "['id', 'hour', 'C1', 'banner_pos', 'device_type', 'device_conn_type', 'C14', 'C15', 'C16', 'C17', 'C18', 'C19', 'C20', 'C21']\n",
      "['site_id', 'site_domain', 'site_category', 'app_id', 'app_domain', 'app_category', 'device_id', 'device_ip', 'device_model']\n"
     ]
    }
   ],
   "source": [
    "num_cols = X.select_dtypes(include = ['int','float']).columns.tolist()\n",
    "categorical_cols = X.select_dtypes(include = ['object']).columns.tolist()\n",
    "print(num_cols)\n",
    "print(categorical_cols)"
   ]
  },
  {
   "cell_type": "markdown",
   "id": "d4c20f15",
   "metadata": {},
   "source": [
    "Hashing"
   ]
  },
  {
   "cell_type": "code",
   "execution_count": 32,
   "id": "37153e26",
   "metadata": {},
   "outputs": [],
   "source": [
    "for col in categorical_cols:\n",
    "    X_train[col] = X_train[col].apply(lambda x: hash(x))\n",
    "    \n",
    "for col in categorical_cols:\n",
    "    X_test[col] = X_test[col].apply(lambda x:hash(x))"
   ]
  },
  {
   "cell_type": "markdown",
   "id": "7104a046",
   "metadata": {},
   "source": [
    "Scaling the Numerical Values¶"
   ]
  },
  {
   "cell_type": "code",
   "execution_count": 33,
   "id": "82567cb0",
   "metadata": {},
   "outputs": [],
   "source": [
    "from sklearn.preprocessing import StandardScaler\n",
    "std = StandardScaler()\n",
    "X_train[num_cols] = std.fit_transform(X_train[num_cols])\n",
    "X_test[num_cols] = std.transform(X_test[num_cols])"
   ]
  },
  {
   "cell_type": "code",
   "execution_count": 34,
   "id": "e33774e3",
   "metadata": {},
   "outputs": [],
   "source": [
    "X_train['user_info'] = X_train.device_ip + X_train.device_model + X_train.device_id\n",
    "X_train = X_train.drop(['device_id','device_ip','device_model','id','hour'],axis=1)\n",
    "    \n",
    "X_train['device_info'] = X_train.device_type + X_train.banner_pos + X_train.device_conn_type\n",
    "X_train = X_train.drop(['banner_pos','device_conn_type','device_type'],axis=1)\n",
    "\n",
    "X_test['user_info'] = X_test.device_ip + X_test.device_model + X_test.device_id\n",
    "X_test = X_test.drop(['device_id','device_ip','device_model','id','hour'],axis=1)\n",
    "    \n",
    "X_test['device_info'] = X_test.device_type + X_test.banner_pos + X_test.device_conn_type\n",
    "X_test = X_test.drop(['banner_pos','device_conn_type','device_type'],axis=1)"
   ]
  },
  {
   "cell_type": "markdown",
   "id": "ec0a83d1",
   "metadata": {},
   "source": [
    "### Decision Tree Classifier (Scipy)"
   ]
  },
  {
   "cell_type": "code",
   "execution_count": 35,
   "id": "53b579f2",
   "metadata": {},
   "outputs": [
    {
     "name": "stdout",
     "output_type": "stream",
     "text": [
      "Train Score: 0.833970135132251\n",
      "Test Score: 0.8341246388418998\n"
     ]
    }
   ],
   "source": [
    "from sklearn.tree import DecisionTreeClassifier\n",
    "tree = DecisionTreeClassifier(max_depth = 10)\n",
    "tree.fit(X_train,y_train)\n",
    "print('Train Score:',tree.score(X_train,y_train))\n",
    "print('Test Score:',tree.score(X_test,y_test))"
   ]
  },
  {
   "cell_type": "code",
   "execution_count": 36,
   "id": "e8b884c2",
   "metadata": {},
   "outputs": [
    {
     "name": "stdout",
     "output_type": "stream",
     "text": [
      "0.709738282178414\n"
     ]
    }
   ],
   "source": [
    "from sklearn.metrics import roc_curve,confusion_matrix,precision_score,recall_score,roc_auc_score\n",
    "y_score = tree.predict_proba(X_test)\n",
    "fpr, tpr, thresholds = roc_curve(y_test, y_score[:, 1])\n",
    "roc_auc_score = roc_auc_score(y_test,y_score[:,1])\n",
    "print(roc_auc_score)"
   ]
  },
  {
   "cell_type": "code",
   "execution_count": 37,
   "id": "7876c67d",
   "metadata": {},
   "outputs": [
    {
     "name": "stdout",
     "output_type": "stream",
     "text": [
      "Precision: 0.7973043665058606, Recall: 0.8341246388418998\n"
     ]
    }
   ],
   "source": [
    "y_pred = tree.predict(X_test)\n",
    "precision = precision_score(y_test, y_pred, average = 'weighted')\n",
    "recall = recall_score(y_test, y_pred, average = 'weighted')\n",
    "print(\"Precision: %s, Recall: %s\" %(precision, recall))"
   ]
  },
  {
   "cell_type": "code",
   "execution_count": 38,
   "id": "25175b4a",
   "metadata": {},
   "outputs": [
    {
     "name": "stdout",
     "output_type": "stream",
     "text": [
      "[[9967928  102602]\n",
      " [1909249  148912]]\n"
     ]
    }
   ],
   "source": [
    "matrix = confusion_matrix(y_test,y_pred)\n",
    "tn, fp, fn, tp = matrix.ravel()\n",
    "print(matrix)"
   ]
  },
  {
   "cell_type": "code",
   "execution_count": 39,
   "id": "bf06c4c5",
   "metadata": {},
   "outputs": [
    {
     "name": "stdout",
     "output_type": "stream",
     "text": [
      "Evaluating tree with max_depth = 2\n",
      "Confusion matrix: \n",
      "[[9967926  102604]\n",
      " [1909247  148914]]\n",
      "Precision: 0.7973042129208712, Recall: 0.8341246388418998\n",
      "Evaluating tree with max_depth = 3\n",
      "Confusion matrix: \n",
      "[[9967927  102603]\n",
      " [1909244  148917]]\n",
      "Precision: 0.7973056252915109, Recall: 0.8341249686384128\n",
      "Evaluating tree with max_depth = 5\n",
      "Confusion matrix: \n",
      "[[9967929  102601]\n",
      " [1909247  148914]]\n",
      "Precision: 0.7973054449990506, Recall: 0.8341248861892846\n",
      "Evaluating tree with max_depth = 10\n",
      "Confusion matrix: \n",
      "[[9967931  102599]\n",
      " [1909247  148914]]\n",
      "Precision: 0.7973062664003762, Recall: 0.8341250510875411\n",
      "Evaluating tree with max_depth = 15\n",
      "Confusion matrix: \n",
      "[[9967930  102600]\n",
      " [1909245  148916]]\n",
      "Precision: 0.797306523484709, Recall: 0.8341251335366694\n",
      "Evaluating tree with max_depth = 20\n",
      "Confusion matrix: \n",
      "[[9967926  102604]\n",
      " [1909245  148916]]\n",
      "Precision: 0.7973048807114375, Recall: 0.8341248037401563\n"
     ]
    }
   ],
   "source": [
    "for max_depth_val in [2, 3, 5, 10, 15, 20]:\n",
    "    clf = DecisionTreeClassifier(max_depth = max_depth_val)\n",
    "    print(\"Evaluating tree with max_depth = %s\" %(max_depth_val))\n",
    "    y_pred = tree.fit(X_train,y_train).predict(X_test) \n",
    "    print(\"Confusion matrix: \")\n",
    "    print(confusion_matrix(y_test, y_pred))\n",
    "    prec = precision_score(y_test, y_pred, average = 'weighted')\n",
    "    recall = recall_score(y_test, y_pred, average = 'weighted')\n",
    "    print(\"Precision: %s, Recall: %s\" %(prec, recall))"
   ]
  },
  {
   "cell_type": "code",
   "execution_count": 40,
   "id": "d104cbf6",
   "metadata": {},
   "outputs": [
    {
     "name": "stdout",
     "output_type": "stream",
     "text": [
      "Evaluating Decision Tree for max_depth = 3\n",
      "Cross validation Recall: 0.8301463561698126\n",
      "Test Recall: 0.8341252159857977\n",
      "Evaluating Decision Tree for max_depth = 5\n",
      "Cross validation Recall: 0.8316839383474565\n",
      "Test Recall: 0.8341248037401563\n",
      "Evaluating Decision Tree for max_depth = 10\n",
      "Cross validation Recall: 0.8339429975877267\n",
      "Test Recall: 0.8341251335366694\n"
     ]
    }
   ],
   "source": [
    "from sklearn.model_selection import KFold,cross_val_score\n",
    "for max_depth_val in [3, 5, 10]:\n",
    "    k_fold = KFold(n_splits = 4)\n",
    "    clf = DecisionTreeClassifier(max_depth = max_depth_val)\n",
    "    print(\"Evaluating Decision Tree for max_depth = %s\" %(max_depth_val))\n",
    "    y_pred = tree.fit(X_train, y_train).predict(X_test) \n",
    "  \n",
    "    cv_precision = cross_val_score(clf, X_train, y_train, cv = k_fold, scoring = 'recall_weighted')\n",
    "    precision = recall_score(y_test, y_pred, average = 'weighted')\n",
    "    print(\"Cross validation Recall: %s\" %(cv_precision.mean()))\n",
    "    print(\"Test Recall: %s\" %(precision.mean()))"
   ]
  },
  {
   "cell_type": "code",
   "execution_count": 41,
   "id": "a6ee8cfb",
   "metadata": {},
   "outputs": [
    {
     "name": "stdout",
     "output_type": "stream",
     "text": [
      "Fitting 5 folds for each of 10 candidates, totalling 50 fits\n",
      "[CV] END bootstrap=True, max_depth=10, max_features=log2, min_samples_split=3, n_estimators=2; total time=13.7min\n",
      "[CV] END bootstrap=True, max_depth=10, max_features=log2, min_samples_split=4, n_estimators=10; total time=40.4min\n",
      "[CV] END bootstrap=True, max_depth=10, max_features=log2, min_samples_split=3, n_estimators=10; total time=44.6min\n",
      "[CV] END bootstrap=True, max_depth=10, max_features=log2, min_samples_split=4, n_estimators=10; total time=38.9min\n",
      "[CV] END bootstrap=True, max_depth=10, max_features=log2, min_samples_split=2, n_estimators=10; total time=37.6min\n",
      "[CV] END bootstrap=True, max_depth=10, max_features=log2, min_samples_split=3, n_estimators=20; total time=81.0min\n",
      "[CV] END bootstrap=True, max_depth=10, max_features=log2, min_samples_split=4, n_estimators=2; total time=10.4min\n",
      "[CV] END bootstrap=True, max_depth=10, max_features=log2, min_samples_split=2, n_estimators=10; total time=40.1min\n",
      "[CV] END bootstrap=True, max_depth=10, max_features=log2, min_samples_split=3, n_estimators=2; total time=13.7min\n",
      "[CV] END bootstrap=True, max_depth=10, max_features=log2, min_samples_split=3, n_estimators=50; total time=187.9min\n",
      "[CV] END bootstrap=True, max_depth=10, max_features=log2, min_samples_split=3, n_estimators=2; total time=13.6min\n",
      "[CV] END bootstrap=True, max_depth=10, max_features=log2, min_samples_split=3, n_estimators=50; total time=188.4min\n",
      "[CV] END bootstrap=True, max_depth=10, max_features=log2, min_samples_split=3, n_estimators=2; total time=13.2min\n",
      "[CV] END bootstrap=True, max_depth=10, max_features=log2, min_samples_split=3, n_estimators=50; total time=188.3min\n",
      "[CV] END bootstrap=True, max_depth=10, max_features=log2, min_samples_split=3, n_estimators=2; total time=13.2min\n",
      "[CV] END bootstrap=True, max_depth=10, max_features=log2, min_samples_split=3, n_estimators=50; total time=189.1min\n",
      "[CV] END bootstrap=True, max_depth=10, max_features=log2, min_samples_split=3, n_estimators=50; total time=191.7min\n",
      "[CV] END bootstrap=True, max_depth=10, max_features=log2, min_samples_split=4, n_estimators=5; total time=16.4min\n",
      "[CV] END bootstrap=True, max_depth=10, max_features=log2, min_samples_split=3, n_estimators=20; total time=81.3min\n",
      "[CV] END bootstrap=True, max_depth=10, max_features=log2, min_samples_split=4, n_estimators=2; total time=10.4min\n",
      "[CV] END bootstrap=True, max_depth=10, max_features=log2, min_samples_split=2, n_estimators=10; total time=41.0min\n",
      "[CV] END bootstrap=True, max_depth=10, max_features=log2, min_samples_split=4, n_estimators=5; total time=20.5min\n",
      "[CV] END bootstrap=True, max_depth=10, max_features=log2, min_samples_split=4, n_estimators=5; total time=20.2min\n",
      "[CV] END bootstrap=True, max_depth=10, max_features=log2, min_samples_split=4, n_estimators=5; total time=19.5min\n",
      "[CV] END bootstrap=True, max_depth=10, max_features=log2, min_samples_split=4, n_estimators=5; total time=15.9min\n",
      "[CV] END bootstrap=True, max_depth=10, max_features=log2, min_samples_split=3, n_estimators=10; total time=44.6min\n",
      "[CV] END bootstrap=True, max_depth=10, max_features=log2, min_samples_split=4, n_estimators=50; total time=175.5min\n",
      "[CV] END bootstrap=True, max_depth=10, max_features=log2, min_samples_split=4, n_estimators=50; total time=169.8min\n",
      "[CV] END bootstrap=True, max_depth=10, max_features=log2, min_samples_split=3, n_estimators=20; total time=81.0min\n",
      "[CV] END bootstrap=True, max_depth=10, max_features=log2, min_samples_split=4, n_estimators=50; total time=156.6min\n",
      "[CV] END bootstrap=True, max_depth=10, max_features=log2, min_samples_split=3, n_estimators=20; total time=80.9min\n",
      "[CV] END bootstrap=True, max_depth=10, max_features=log2, min_samples_split=4, n_estimators=50; total time=156.8min\n",
      "[CV] END bootstrap=True, max_depth=10, max_features=log2, min_samples_split=3, n_estimators=20; total time=81.0min\n",
      "[CV] END bootstrap=True, max_depth=10, max_features=log2, min_samples_split=4, n_estimators=50; total time=156.9min\n",
      "[CV] END bootstrap=True, max_depth=10, max_features=log2, min_samples_split=3, n_estimators=10; total time=43.9min\n",
      "[CV] END bootstrap=True, max_depth=10, max_features=log2, min_samples_split=4, n_estimators=10; total time=37.8min\n",
      "[CV] END bootstrap=True, max_depth=10, max_features=log2, min_samples_split=4, n_estimators=2; total time=10.3min\n",
      "[CV] END bootstrap=True, max_depth=10, max_features=log2, min_samples_split=2, n_estimators=50; total time=149.9min\n",
      "[CV] END bootstrap=True, max_depth=10, max_features=log2, min_samples_split=3, n_estimators=10; total time=43.9min\n",
      "[CV] END bootstrap=True, max_depth=10, max_features=log2, min_samples_split=4, n_estimators=10; total time=37.8min\n",
      "[CV] END bootstrap=True, max_depth=10, max_features=log2, min_samples_split=4, n_estimators=2; total time= 9.7min\n",
      "[CV] END bootstrap=True, max_depth=10, max_features=log2, min_samples_split=2, n_estimators=10; total time=40.5min\n",
      "[CV] END bootstrap=True, max_depth=10, max_features=log2, min_samples_split=2, n_estimators=50; total time=125.2min\n",
      "[CV] END bootstrap=True, max_depth=10, max_features=log2, min_samples_split=3, n_estimators=10; total time=44.6min\n",
      "[CV] END bootstrap=True, max_depth=10, max_features=log2, min_samples_split=4, n_estimators=10; total time=38.8min\n",
      "[CV] END bootstrap=True, max_depth=10, max_features=log2, min_samples_split=4, n_estimators=2; total time= 8.6min\n",
      "[CV] END bootstrap=True, max_depth=10, max_features=log2, min_samples_split=2, n_estimators=10; total time=39.8min\n",
      "[CV] END bootstrap=True, max_depth=10, max_features=log2, min_samples_split=2, n_estimators=50; total time=125.5min\n",
      "[CV] END bootstrap=True, max_depth=10, max_features=log2, min_samples_split=2, n_estimators=50; total time=132.3min\n",
      "[CV] END bootstrap=True, max_depth=10, max_features=log2, min_samples_split=2, n_estimators=50; total time=125.7min\n"
     ]
    }
   ],
   "source": [
    "from sklearn.ensemble import RandomForestClassifier\n",
    "from sklearn.model_selection import RandomizedSearchCV\n",
    "\n",
    "param_grid = {\n",
    "    'bootstrap': [True],\n",
    "    'max_depth': [10], \n",
    "    'n_estimators':[2,5,10,20,50],\n",
    "    'min_samples_split': [2, 3, 4],\n",
    "    'max_features' : ['log2']\n",
    "}\n",
    "\n",
    "rf = RandomForestClassifier(random_state=42)\n",
    "\n",
    "rf_search = RandomizedSearchCV(estimator = rf, param_distributions=param_grid, \n",
    "                          cv = 5, n_jobs = -1, verbose = 2, n_iter = 10)\n",
    "\n",
    "model = rf_search.fit(X_train,y_train)"
   ]
  },
  {
   "cell_type": "code",
   "execution_count": 42,
   "id": "7b322f82",
   "metadata": {},
   "outputs": [
    {
     "data": {
      "text/plain": [
       "{'n_estimators': 20,\n",
       " 'min_samples_split': 3,\n",
       " 'max_features': 'log2',\n",
       " 'max_depth': 10,\n",
       " 'bootstrap': True}"
      ]
     },
     "execution_count": 42,
     "metadata": {},
     "output_type": "execute_result"
    }
   ],
   "source": [
    "rf_search.best_params_"
   ]
  },
  {
   "cell_type": "markdown",
   "id": "826a4115",
   "metadata": {},
   "source": [
    "### Random Forest Classifier (Scipy)"
   ]
  },
  {
   "cell_type": "code",
   "execution_count": 43,
   "id": "8e0c710c",
   "metadata": {},
   "outputs": [
    {
     "data": {
      "text/plain": [
       "RandomForestClassifier(max_depth=10, max_features='log2', n_estimators=20,\n",
       "                       random_state=42)"
      ]
     },
     "execution_count": 43,
     "metadata": {},
     "output_type": "execute_result"
    }
   ],
   "source": [
    "clf_rf = RandomForestClassifier(n_estimators= 20,\n",
    " min_samples_split= 2,\n",
    " max_features= 'log2',\n",
    " max_depth= 10,\n",
    " bootstrap= True,\n",
    " random_state=42)\n",
    "clf_rf.fit(X_train,y_train)"
   ]
  },
  {
   "cell_type": "code",
   "execution_count": 44,
   "id": "6ac89f82",
   "metadata": {},
   "outputs": [],
   "source": [
    "rf_prob = clf_rf.predict_proba(X_test)\n",
    "rf_fpr,rf_tpr,_ = roc_curve(y_test,rf_prob[:,1])"
   ]
  },
  {
   "cell_type": "markdown",
   "id": "2a43ba65",
   "metadata": {},
   "source": [
    "### XGB Classifier"
   ]
  },
  {
   "cell_type": "code",
   "execution_count": 52,
   "id": "1486cbcb",
   "metadata": {
    "scrolled": true
   },
   "outputs": [],
   "source": [
    "import xgboost as xgb\n",
    "from sklearn.metrics import roc_curve,auc,confusion_matrix,precision_score,recall_score,roc_auc_score\n",
    "params = {\n",
    "    \"objective\": \"binary:logistic\",\n",
    "    \"booster\" : \"gbtree\",\n",
    "    \"eval_metric\": \"logloss\",\n",
    "    \"eta\":0.1,\n",
    "    \"max_depth\": 8,\n",
    "    \"subsample\": 0.8,\n",
    "    \"colsample_bytree\": 0.8,\n",
    "    \"verbosity\": 0,\n",
    "}\n",
    "xgclf=xgb.XGBClassifier(**params)\n",
    "xgclf.fit(X_train, y_train,\n",
    "        eval_set=[(X_test, y_test)],\n",
    "        eval_metric='logloss',\n",
    "        verbose=False)\n",
    "xgpred=xgclf.predict_proba(X_test)"
   ]
  },
  {
   "cell_type": "code",
   "execution_count": 53,
   "id": "2def0f19",
   "metadata": {},
   "outputs": [
    {
     "name": "stdout",
     "output_type": "stream",
     "text": [
      "0.7378860752085188\n",
      "0.8344185699841805\n"
     ]
    }
   ],
   "source": [
    "from sklearn import metrics \n",
    "#y_score = xgclf.predict_proba(x_test)\n",
    "#fpr, tpr, thresholds = roc_curve(y_test, y_score[:, 1])\n",
    "roc_auc_score = metrics.roc_auc_score(y_test,xgpred[:,1])\n",
    "print(roc_auc_score)\n",
    "print(xgclf.score(X_test,y_test))\n",
    "xgb_fpr,xgb_tpr,_ = roc_curve(y_test,xgpred[:,1])"
   ]
  },
  {
   "cell_type": "code",
   "execution_count": 54,
   "id": "ba916f63",
   "metadata": {},
   "outputs": [
    {
     "name": "stdout",
     "output_type": "stream",
     "text": [
      "Precision scores: 0.798844500651994\n",
      "Recall scores: 0.8342281891524573\n",
      "KFold(n_splits=5, random_state=None, shuffle=False)\n"
     ]
    }
   ],
   "source": [
    "from sklearn.model_selection import KFold,cross_val_score\n",
    "# Set up k-fold\n",
    "k_fold = KFold(n_splits = 5)\n",
    "\n",
    "# Evaluate precision and recall for each fold\n",
    "precision = cross_val_score(\n",
    "  xgclf, X_train, y_train, cv = k_fold, scoring = 'precision_weighted')\n",
    "recall = cross_val_score(\n",
    "  xgclf, X_train, y_train, cv = k_fold, scoring = 'recall_weighted')\n",
    "print(\"Precision scores: %s\" %(precision.mean())) \n",
    "print(\"Recall scores: %s\" %(recall.mean()))\n",
    "print(k_fold)"
   ]
  },
  {
   "cell_type": "code",
   "execution_count": 55,
   "id": "f93b1798",
   "metadata": {},
   "outputs": [],
   "source": [
    "random_probs = [0 for i in range(len(y_test))]\n",
    "p_fpr, p_tpr, _ = roc_curve(y_test, random_probs, pos_label=1)"
   ]
  },
  {
   "cell_type": "code",
   "execution_count": 60,
   "id": "b4eb73db",
   "metadata": {},
   "outputs": [
    {
     "data": {
      "image/png": "[encoded data removed]",
      "text/plain": [
       "<Figure size 576x396 with 1 Axes>"
      ]
     },
     "metadata": {},
     "output_type": "display_data"
    }
   ],
   "source": [
    "plt.rcParams['axes.facecolor'] = 'white'\n",
    "# plt.style.use('seaborn')\n",
    "plt.plot(fpr,tpr,linestyle = '--',color = 'green',label='Decision Tree')\n",
    "plt.plot(rf_fpr,rf_tpr,linestyle = '--',color = 'yellow',label='Random Forest')\n",
    "plt.plot(xgb_fpr,xgb_tpr,linestyle = '--',color = 'orange',label='XGBoost')\n",
    "plt.plot(p_fpr,p_tpr,linestyle='--',color = 'blue')\n",
    "plt.legend()\n",
    "plt.xlabel('FPR')\n",
    "plt.ylabel('TPR')\n",
    "plt.title('AUC-ROC Curve');"
   ]
  },
  {
   "cell_type": "code",
   "execution_count": 2,
   "id": "flying-building",
   "metadata": {},
   "outputs": [],
   "source": [
    "# Solution for importing if the path is different:\n",
    "# import sys  \n",
    "# !{sys.executable} -m pip install --user wordcloud"
   ]
  },
  {
   "cell_type": "markdown",
   "id": "d9ec8873",
   "metadata": {},
   "source": [
    "# Conclusion\n",
    "\n",
    "Technique that showed best performance on the data was that of XGBoost classifier followed by Random Forest and Decision Tree clasifiers."
   ]
  },
  {
   "cell_type": "code",
   "execution_count": null,
   "id": "682cc282",
   "metadata": {},
   "outputs": [],
   "source": []
  }
 ],
 "metadata": {
  "kernelspec": {
   "display_name": "Python 3 (ipykernel)",
   "language": "python",
   "name": "python3"
  },
  "language_info": {
   "codemirror_mode": {
    "name": "ipython",
    "version": 3
   },
   "file_extension": ".py",
   "mimetype": "text/x-python",
   "name": "python",
   "nbconvert_exporter": "python",
   "pygments_lexer": "ipython3",
   "version": "3.8.11"
  }
 },
 "nbformat": 4,
 "nbformat_minor": 5
}

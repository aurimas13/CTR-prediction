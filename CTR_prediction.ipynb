{
 "cells": [
  {
   "cell_type": "markdown",
   "id": "e5f447f5",
   "metadata": {},
   "source": [
    "# The ML model of CTR prediction\n",
    "\n",
    "This is the analysis of ads generated through 11 days and known as **Avazu** data. The project follows Data Collection, EDA, Data Cleaning, modeling, it's evaluation & deployment. "
   ]
  },
  {
   "cell_type": "code",
   "execution_count": 1,
   "id": "1daee040",
   "metadata": {},
   "outputs": [],
   "source": [
    "# Importing libraries\n",
    "\n",
    "import numpy as np             # Mathetimatical Operations\n",
    "import pandas as pd            # Data manipulation\n",
    "\n",
    "# Visualization\n",
    "import matplotlib.pyplot as plt\n",
    "import seaborn as sns\n",
    "import plotly.express as px\n",
    "from plotly.offline import iplot\n",
    "\n",
    "# Scipy\n",
    "from scipy import stats\n",
    "import scipy.stats as ss\n",
    "\n",
    "# Sklearn\n",
    "from sklearn.tree import DecisionTreeClassifier\n",
    "from sklearn.preprocessing import OneHotEncoder\n",
    "from sklearn.model_selection import GridSearchCV\n",
    "from sklearn.metrics import roc_auc_score\n",
    "from sklearn.ensemble import RandomForestClassifier\n",
    "from sklearn.linear_model import SGDClassifier\n",
    "from sklearn import datasets\n",
    "from sklearn.model_selection import train_test_split\n",
    "from sklearn.model_selection import GridSearchCV\n",
    "\n",
    "# XGBoost\n",
    "import xgboost as xgb\n",
    "\n",
    "# Other\n",
    "import itertools\n",
    "import tensorflow as tf\n",
    "from mlxtend.preprocessing import minmax_scaling\n",
    "from typing import Union\n",
    "from wordcloud import WordCloud, STOPWORDS\n",
    "import gzip\n",
    "import timeit\n",
    "import warnings\n",
    "warnings.filterwarnings('ignore')"
   ]
  },
  {
   "cell_type": "markdown",
   "id": "31242a48",
   "metadata": {},
   "source": [
    "# Data collection"
   ]
  },
  {
   "cell_type": "code",
   "execution_count": 2,
   "id": "bcbac813",
   "metadata": {},
   "outputs": [],
   "source": [
    "df = pd.read_csv('train.gz', compression='gzip', header=0, sep=',', quotechar='\"', error_bad_lines=False)\n",
    "# validation_df = pd.read_csv('sampleSubmission.gz', compression='gzip', header=0, sep=',', quotechar='\"', error_bad_lines=False)\n",
    "# test_df = pd.read_csv('test.gz', compression='gzip', header=0, sep=',', quotechar='\"', error_bad_lines=False)"
   ]
  },
  {
   "cell_type": "markdown",
   "id": "8ff87aa5",
   "metadata": {},
   "source": [
    "# Exploratory Data Analysis"
   ]
  },
  {
   "cell_type": "code",
   "execution_count": 3,
   "id": "477584dd",
   "metadata": {},
   "outputs": [
    {
     "data": {
      "text/html": [
       "<div>\n",
       "<style scoped>\n",
       "    .dataframe tbody tr th:only-of-type {\n",
       "        vertical-align: middle;\n",
       "    }\n",
       "\n",
       "    .dataframe tbody tr th {\n",
       "        vertical-align: top;\n",
       "    }\n",
       "\n",
       "    .dataframe thead th {\n",
       "        text-align: right;\n",
       "    }\n",
       "</style>\n",
       "<table border=\"1\" class=\"dataframe\">\n",
       "  <thead>\n",
       "    <tr style=\"text-align: right;\">\n",
       "      <th></th>\n",
       "      <th>id</th>\n",
       "      <th>click</th>\n",
       "      <th>hour</th>\n",
       "      <th>C1</th>\n",
       "      <th>banner_pos</th>\n",
       "      <th>site_id</th>\n",
       "      <th>site_domain</th>\n",
       "      <th>site_category</th>\n",
       "      <th>app_id</th>\n",
       "      <th>app_domain</th>\n",
       "      <th>...</th>\n",
       "      <th>device_type</th>\n",
       "      <th>device_conn_type</th>\n",
       "      <th>C14</th>\n",
       "      <th>C15</th>\n",
       "      <th>C16</th>\n",
       "      <th>C17</th>\n",
       "      <th>C18</th>\n",
       "      <th>C19</th>\n",
       "      <th>C20</th>\n",
       "      <th>C21</th>\n",
       "    </tr>\n",
       "  </thead>\n",
       "  <tbody>\n",
       "    <tr>\n",
       "      <th>0</th>\n",
       "      <td>1.000009e+18</td>\n",
       "      <td>0</td>\n",
       "      <td>14102100</td>\n",
       "      <td>1005</td>\n",
       "      <td>0</td>\n",
       "      <td>1fbe01fe</td>\n",
       "      <td>f3845767</td>\n",
       "      <td>28905ebd</td>\n",
       "      <td>ecad2386</td>\n",
       "      <td>7801e8d9</td>\n",
       "      <td>...</td>\n",
       "      <td>1</td>\n",
       "      <td>2</td>\n",
       "      <td>15706</td>\n",
       "      <td>320</td>\n",
       "      <td>50</td>\n",
       "      <td>1722</td>\n",
       "      <td>0</td>\n",
       "      <td>35</td>\n",
       "      <td>-1</td>\n",
       "      <td>79</td>\n",
       "    </tr>\n",
       "    <tr>\n",
       "      <th>1</th>\n",
       "      <td>1.000017e+19</td>\n",
       "      <td>0</td>\n",
       "      <td>14102100</td>\n",
       "      <td>1005</td>\n",
       "      <td>0</td>\n",
       "      <td>1fbe01fe</td>\n",
       "      <td>f3845767</td>\n",
       "      <td>28905ebd</td>\n",
       "      <td>ecad2386</td>\n",
       "      <td>7801e8d9</td>\n",
       "      <td>...</td>\n",
       "      <td>1</td>\n",
       "      <td>0</td>\n",
       "      <td>15704</td>\n",
       "      <td>320</td>\n",
       "      <td>50</td>\n",
       "      <td>1722</td>\n",
       "      <td>0</td>\n",
       "      <td>35</td>\n",
       "      <td>100084</td>\n",
       "      <td>79</td>\n",
       "    </tr>\n",
       "    <tr>\n",
       "      <th>2</th>\n",
       "      <td>1.000037e+19</td>\n",
       "      <td>0</td>\n",
       "      <td>14102100</td>\n",
       "      <td>1005</td>\n",
       "      <td>0</td>\n",
       "      <td>1fbe01fe</td>\n",
       "      <td>f3845767</td>\n",
       "      <td>28905ebd</td>\n",
       "      <td>ecad2386</td>\n",
       "      <td>7801e8d9</td>\n",
       "      <td>...</td>\n",
       "      <td>1</td>\n",
       "      <td>0</td>\n",
       "      <td>15704</td>\n",
       "      <td>320</td>\n",
       "      <td>50</td>\n",
       "      <td>1722</td>\n",
       "      <td>0</td>\n",
       "      <td>35</td>\n",
       "      <td>100084</td>\n",
       "      <td>79</td>\n",
       "    </tr>\n",
       "    <tr>\n",
       "      <th>3</th>\n",
       "      <td>1.000064e+19</td>\n",
       "      <td>0</td>\n",
       "      <td>14102100</td>\n",
       "      <td>1005</td>\n",
       "      <td>0</td>\n",
       "      <td>1fbe01fe</td>\n",
       "      <td>f3845767</td>\n",
       "      <td>28905ebd</td>\n",
       "      <td>ecad2386</td>\n",
       "      <td>7801e8d9</td>\n",
       "      <td>...</td>\n",
       "      <td>1</td>\n",
       "      <td>0</td>\n",
       "      <td>15706</td>\n",
       "      <td>320</td>\n",
       "      <td>50</td>\n",
       "      <td>1722</td>\n",
       "      <td>0</td>\n",
       "      <td>35</td>\n",
       "      <td>100084</td>\n",
       "      <td>79</td>\n",
       "    </tr>\n",
       "    <tr>\n",
       "      <th>4</th>\n",
       "      <td>1.000068e+19</td>\n",
       "      <td>0</td>\n",
       "      <td>14102100</td>\n",
       "      <td>1005</td>\n",
       "      <td>1</td>\n",
       "      <td>fe8cc448</td>\n",
       "      <td>9166c161</td>\n",
       "      <td>0569f928</td>\n",
       "      <td>ecad2386</td>\n",
       "      <td>7801e8d9</td>\n",
       "      <td>...</td>\n",
       "      <td>1</td>\n",
       "      <td>0</td>\n",
       "      <td>18993</td>\n",
       "      <td>320</td>\n",
       "      <td>50</td>\n",
       "      <td>2161</td>\n",
       "      <td>0</td>\n",
       "      <td>35</td>\n",
       "      <td>-1</td>\n",
       "      <td>157</td>\n",
       "    </tr>\n",
       "  </tbody>\n",
       "</table>\n",
       "<p>5 rows × 24 columns</p>\n",
       "</div>"
      ],
      "text/plain": [
       "             id  click      hour    C1  banner_pos   site_id site_domain  \\\n",
       "0  1.000009e+18      0  14102100  1005           0  1fbe01fe    f3845767   \n",
       "1  1.000017e+19      0  14102100  1005           0  1fbe01fe    f3845767   \n",
       "2  1.000037e+19      0  14102100  1005           0  1fbe01fe    f3845767   \n",
       "3  1.000064e+19      0  14102100  1005           0  1fbe01fe    f3845767   \n",
       "4  1.000068e+19      0  14102100  1005           1  fe8cc448    9166c161   \n",
       "\n",
       "  site_category    app_id app_domain  ... device_type device_conn_type    C14  \\\n",
       "0      28905ebd  ecad2386   7801e8d9  ...           1                2  15706   \n",
       "1      28905ebd  ecad2386   7801e8d9  ...           1                0  15704   \n",
       "2      28905ebd  ecad2386   7801e8d9  ...           1                0  15704   \n",
       "3      28905ebd  ecad2386   7801e8d9  ...           1                0  15706   \n",
       "4      0569f928  ecad2386   7801e8d9  ...           1                0  18993   \n",
       "\n",
       "   C15  C16   C17  C18  C19     C20  C21  \n",
       "0  320   50  1722    0   35      -1   79  \n",
       "1  320   50  1722    0   35  100084   79  \n",
       "2  320   50  1722    0   35  100084   79  \n",
       "3  320   50  1722    0   35  100084   79  \n",
       "4  320   50  2161    0   35      -1  157  \n",
       "\n",
       "[5 rows x 24 columns]"
      ]
     },
     "execution_count": 3,
     "metadata": {},
     "output_type": "execute_result"
    }
   ],
   "source": [
    "# First look at the data\n",
    "df.head()"
   ]
  },
  {
   "cell_type": "markdown",
   "id": "a48c5d35",
   "metadata": {},
   "source": [
    "### Respective data fields\n",
    "\n",
    "* *id*: ad identifier such as 1000009418151094273, 10000169349117863715\n",
    "* *click*: 0 for non-click, 1 for click\n",
    "* *hour*: in the format of YYMMDDHH, for example 21090200\n",
    "* *C1*: anonymized categorical variable, such as 1005, 1002\n",
    "* *banner_pos*: where a banner is located - 1 and 0\n",
    "* *site_id*: site_identifier, such as 1fb01fe, fe8cc448, d6137915\n",
    "* *site_domain*: hashed site category, such as 'bb1ef334', 'f3845767'\n",
    "* *site_category*: hashed site category, such as 18905ebd, 28905ebd\n",
    "* *app_id*: mobile app identifier\n",
    "* app_domain\n",
    "* app_category\n",
    "* *device_id*: mobile device identifier\n",
    "* *device_ip*: IP address\n",
    "* *device_model*: such as iPhone6, Samsung - hashed\n",
    "* *device_type*: such as tablet, smartphone - hashed\n",
    "* *device_conn_type*: Wi-Fi or 3G for example - again hashed\n",
    "* *C14-C21*: anonymized categorical variables"
   ]
  },
  {
   "cell_type": "markdown",
   "id": "a48cbe9d",
   "metadata": {},
   "source": [
    "1. Looking at the data types"
   ]
  },
  {
   "cell_type": "code",
   "execution_count": 4,
   "id": "2420180b",
   "metadata": {},
   "outputs": [
    {
     "name": "stdout",
     "output_type": "stream",
     "text": [
      "<class 'pandas.core.frame.DataFrame'>\n",
      "RangeIndex: 40428967 entries, 0 to 40428966\n",
      "Data columns (total 24 columns):\n",
      " #   Column            Dtype  \n",
      "---  ------            -----  \n",
      " 0   id                float64\n",
      " 1   click             int64  \n",
      " 2   hour              int64  \n",
      " 3   C1                int64  \n",
      " 4   banner_pos        int64  \n",
      " 5   site_id           object \n",
      " 6   site_domain       object \n",
      " 7   site_category     object \n",
      " 8   app_id            object \n",
      " 9   app_domain        object \n",
      " 10  app_category      object \n",
      " 11  device_id         object \n",
      " 12  device_ip         object \n",
      " 13  device_model      object \n",
      " 14  device_type       int64  \n",
      " 15  device_conn_type  int64  \n",
      " 16  C14               int64  \n",
      " 17  C15               int64  \n",
      " 18  C16               int64  \n",
      " 19  C17               int64  \n",
      " 20  C18               int64  \n",
      " 21  C19               int64  \n",
      " 22  C20               int64  \n",
      " 23  C21               int64  \n",
      "dtypes: float64(1), int64(14), object(9)\n",
      "memory usage: 7.2+ GB\n"
     ]
    }
   ],
   "source": [
    "df.info()\n",
    "# train_df.dtypes"
   ]
  },
  {
   "cell_type": "markdown",
   "id": "a263fb26",
   "metadata": {},
   "source": [
    "2. How many observations and features there are?"
   ]
  },
  {
   "cell_type": "code",
   "execution_count": 5,
   "id": "c1c9a551",
   "metadata": {},
   "outputs": [
    {
     "name": "stdout",
     "output_type": "stream",
     "text": [
      "Observations: 40428967\n",
      "Features: 24\n"
     ]
    }
   ],
   "source": [
    "print(\"Observations: \" + str(len(df.index)))\n",
    "print(\"Features: \" + str(len(df.columns)))\n",
    "\n",
    "# # Alternative way:\n",
    "# train_df.shape"
   ]
  },
  {
   "cell_type": "markdown",
   "id": "aa7be624",
   "metadata": {},
   "source": [
    "3. Which of the features are numeric?"
   ]
  },
  {
   "cell_type": "code",
   "execution_count": 6,
   "id": "fcb85383",
   "metadata": {},
   "outputs": [
    {
     "data": {
      "text/plain": [
       "Index(['id', 'click', 'hour', 'C1', 'banner_pos', 'device_type',\n",
       "       'device_conn_type', 'C14', 'C15', 'C16', 'C17', 'C18', 'C19', 'C20',\n",
       "       'C21'],\n",
       "      dtype='object')"
      ]
     },
     "execution_count": 6,
     "metadata": {},
     "output_type": "execute_result"
    }
   ],
   "source": [
    "cols = df.columns\n",
    "num_cols = df._get_numeric_data().columns\n",
    "num_cols"
   ]
  },
  {
   "cell_type": "markdown",
   "id": "e4739ff1",
   "metadata": {},
   "source": [
    "4. Which features are categorical?"
   ]
  },
  {
   "cell_type": "code",
   "execution_count": 7,
   "id": "7acd94be",
   "metadata": {},
   "outputs": [
    {
     "data": {
      "text/plain": [
       "['device_id',\n",
       " 'site_id',\n",
       " 'site_domain',\n",
       " 'app_domain',\n",
       " 'site_category',\n",
       " 'app_category',\n",
       " 'device_model',\n",
       " 'device_ip',\n",
       " 'app_id']"
      ]
     },
     "execution_count": 7,
     "metadata": {},
     "output_type": "execute_result"
    }
   ],
   "source": [
    "cat_cols = list(set(cols) - set(num_cols))\n",
    "cat_cols"
   ]
  },
  {
   "cell_type": "markdown",
   "id": "adfe979a",
   "metadata": {},
   "source": [
    "5. Looking at clicks"
   ]
  },
  {
   "cell_type": "code",
   "execution_count": 8,
   "id": "bf3d32a2",
   "metadata": {},
   "outputs": [
    {
     "name": "stdout",
     "output_type": "stream",
     "text": [
      "Number of customers who didnt click on ad: 33563901\n",
      "Number of customers who clicked: 6865066\n",
      "Percentage of apply to non apply 4.889086426845714 %\n"
     ]
    },
    {
     "data": {
      "image/png": "[encoded data removed]",
      "text/plain": [
       "<Figure size 432x288 with 1 Axes>"
      ]
     },
     "metadata": {
      "needs_background": "light"
     },
     "output_type": "display_data"
    }
   ],
   "source": [
    "sns.countplot(x='click', data=df);\n",
    "plt.title('Click Rate')\n",
    "plt.ylabel('Count of customers')\n",
    "plt.xlabel('Clicks')\n",
    "\n",
    "print('Number of customers who didnt click on ad:',df['click'].value_counts()[0])\n",
    "print('Number of customers who clicked:',df['click'].value_counts()[1])\n",
    "print('Percentage of apply to non apply',df['click'].value_counts()[0]/df['click'].value_counts()[1],'%')"
   ]
  },
  {
   "cell_type": "markdown",
   "id": "e976575b",
   "metadata": {},
   "source": [
    "**Observation**\n",
    "The data is imbalanced and so we might have to use techniques like resmapling (undersampling or oversampling) or use metrics like AUC-ROC curve or AUPRC or SMOTE to handle imbalanced data. Lets explore further which will help us decide what technique should we use. Note: It is already given in the dataset that I have to use AUC as the metric."
   ]
  },
  {
   "cell_type": "markdown",
   "id": "d22ab7d1",
   "metadata": {},
   "source": [
    "6. Checking the correlation between features\n"
   ]
  },
  {
   "cell_type": "code",
   "execution_count": 9,
   "id": "53770274",
   "metadata": {},
   "outputs": [
    {
     "data": {
      "image/png": "[encoded data removed]",
      "text/plain": [
       "<Figure size 1080x1080 with 2 Axes>"
      ]
     },
     "metadata": {
      "needs_background": "light"
     },
     "output_type": "display_data"
    }
   ],
   "source": [
    "cor = df.corr()\n",
    "plt.figure(figsize=(15,15))\n",
    "sns.heatmap(cor, annot=True, cmap=plt.cm.Reds)\n",
    "plt.show()"
   ]
  },
  {
   "cell_type": "markdown",
   "id": "6373394b",
   "metadata": {},
   "source": [
    "**Observation:** \n",
    "After correlation and data type inspection it seems safe to drop features of 'id', 'click', 'hour', device_id' & 'device_ip'."
   ]
  },
  {
   "cell_type": "markdown",
   "id": "d4924a56",
   "metadata": {},
   "source": [
    "7. Checking outliers"
   ]
  },
  {
   "cell_type": "code",
   "execution_count": 10,
   "id": "6e33a0ce",
   "metadata": {},
   "outputs": [
    {
     "data": {
      "image/png": "[encoded data removed]",
      "text/plain": [
       "<Figure size 648x4480 with 9 Axes>"
      ]
     },
     "metadata": {
      "needs_background": "light"
     },
     "output_type": "display_data"
    }
   ],
   "source": [
    "l = ['C1', 'C14',\n",
    "       'C15', 'C16', 'C17',\n",
    "       'C18','C19', 'C20', 'C21']\n",
    "number_of_columns=9\n",
    "number_of_rows = len(l)-1/number_of_columns\n",
    "plt.figure(figsize=(number_of_columns,7*number_of_rows))\n",
    "for i in range(0,len(l)):\n",
    "    plt.subplot(number_of_rows + 1,number_of_columns,i+1)\n",
    "    sns.set_style('whitegrid')\n",
    "    sns.boxplot(df[l[i]],color='green',orient='v')\n",
    "    plt.tight_layout()"
   ]
  },
  {
   "cell_type": "markdown",
   "id": "b61c5ce8",
   "metadata": {},
   "source": [
    "**Observation:**\n",
    "As we see there are a lot of outliers in the data"
   ]
  },
  {
   "cell_type": "markdown",
   "id": "10275a1f",
   "metadata": {},
   "source": [
    "8. Checking the distribution\n",
    "*Positive* refers to the fact that a customer clicked on an ad while *Negative* he/she - didn't"
   ]
  },
  {
   "cell_type": "code",
   "execution_count": 11,
   "id": "8ca1d095",
   "metadata": {},
   "outputs": [
    {
     "data": {
      "image/png": "[encoded data removed]",
      "text/plain": [
       "<Figure size 432x288 with 1 Axes>"
      ]
     },
     "metadata": {},
     "output_type": "display_data"
    },
    {
     "data": {
      "image/png": "[encoded data removed]",
      "text/plain": [
       "<Figure size 432x288 with 1 Axes>"
      ]
     },
     "metadata": {},
     "output_type": "display_data"
    },
    {
     "data": {
      "image/png": "[encoded data removed]",
      "text/plain": [
       "<Figure size 432x288 with 1 Axes>"
      ]
     },
     "metadata": {},
     "output_type": "display_data"
    },
    {
     "data": {
      "image/png": "[encoded data removed]",
      "text/plain": [
       "<Figure size 432x288 with 1 Axes>"
      ]
     },
     "metadata": {},
     "output_type": "display_data"
    }
   ],
   "source": [
    "for feature in df.columns[14:18]:\n",
    "    ax = plt.subplot()\n",
    "    sns.distplot(df[df['click'] == 1][feature], bins=50, label='Positive')\n",
    "    sns.distplot(df[df['click'] == 0][feature], bins=50, label='Negative')\n",
    "    ax.set_xlabel('')\n",
    "    ax.set_title('Histogram of a feature: ' + str(feature))\n",
    "    plt.legend(loc='best')\n",
    "    plt.show()"
   ]
  },
  {
   "cell_type": "markdown",
   "id": "9b89a685",
   "metadata": {},
   "source": [
    "**Observation:**\n",
    "The linearity of some variables is a good practice to plot distribution graph and look for skewness of features. Kernel density estimate (kde) was a useful tool for plotting the shape of a distribution. From here that there seems to be some symmetry amongst the features we inspected. \n"
   ]
  },
  {
   "cell_type": "markdown",
   "id": "f80d7352",
   "metadata": {},
   "source": [
    "# Data Cleaning"
   ]
  },
  {
   "cell_type": "markdown",
   "id": "68df372c",
   "metadata": {},
   "source": [
    "1. Checking if there are any duplicates"
   ]
  },
  {
   "cell_type": "code",
   "execution_count": 12,
   "id": "3a2b6639",
   "metadata": {},
   "outputs": [
    {
     "data": {
      "text/plain": [
       "0"
      ]
     },
     "execution_count": 12,
     "metadata": {},
     "output_type": "execute_result"
    }
   ],
   "source": [
    "df.duplicated(df.columns)\n",
    "df.duplicated(df.columns).sum()"
   ]
  },
  {
   "cell_type": "markdown",
   "id": "c20cb203",
   "metadata": {},
   "source": [
    "2. Checking if there are null values\n"
   ]
  },
  {
   "cell_type": "code",
   "execution_count": 13,
   "id": "5d022091",
   "metadata": {},
   "outputs": [
    {
     "data": {
      "text/plain": [
       "id                  0\n",
       "click               0\n",
       "hour                0\n",
       "C1                  0\n",
       "banner_pos          0\n",
       "site_id             0\n",
       "site_domain         0\n",
       "site_category       0\n",
       "app_id              0\n",
       "app_domain          0\n",
       "app_category        0\n",
       "device_id           0\n",
       "device_ip           0\n",
       "device_model        0\n",
       "device_type         0\n",
       "device_conn_type    0\n",
       "C14                 0\n",
       "C15                 0\n",
       "C16                 0\n",
       "C17                 0\n",
       "C18                 0\n",
       "C19                 0\n",
       "C20                 0\n",
       "C21                 0\n",
       "dtype: int64"
      ]
     },
     "execution_count": 13,
     "metadata": {},
     "output_type": "execute_result"
    }
   ],
   "source": [
    "df.isnull().sum()"
   ]
  },
  {
   "cell_type": "markdown",
   "id": "36e172e0",
   "metadata": {},
   "source": [
    "3. Checking value counts for device_type feature"
   ]
  },
  {
   "cell_type": "code",
   "execution_count": 14,
   "id": "29fc1ec4",
   "metadata": {},
   "outputs": [
    {
     "data": {
      "text/plain": [
       "1    37304667\n",
       "0     2220812\n",
       "4      774272\n",
       "5      129185\n",
       "2          31\n",
       "Name: device_type, dtype: int64"
      ]
     },
     "execution_count": 14,
     "metadata": {},
     "output_type": "execute_result"
    }
   ],
   "source": [
    "df['device_type'].value_counts().head()"
   ]
  },
  {
   "cell_type": "markdown",
   "id": "90e231a8",
   "metadata": {},
   "source": [
    "**Observation:**\n",
    "Because there aren't null values, so we don't have to consider imputing those features or dealing with null values at all."
   ]
  },
  {
   "cell_type": "markdown",
   "id": "b34d8606",
   "metadata": {},
   "source": [
    "**Note: I will not be removing outliers since there is possibility of them carrying important information which can help us detect the apply and non apply cases**"
   ]
  },
  {
   "cell_type": "markdown",
   "id": "c37858c9",
   "metadata": {},
   "source": [
    "# Modelling\n",
    "\n",
    "Involves **Feature Engineering** by removing unused features \n"
   ]
  },
  {
   "cell_type": "code",
   "execution_count": 15,
   "id": "6e375fb9",
   "metadata": {},
   "outputs": [
    {
     "name": "stdout",
     "output_type": "stream",
     "text": [
      "(40428967, 19)\n",
      "  (0, 2)\t1.0\n",
      "  (0, 6)\t1.0\n",
      "  (0, 188)\t1.0\n",
      "  (0, 2608)\t1.0\n",
      "  (0, 2679)\t1.0\n",
      "  (0, 3771)\t1.0\n",
      "  (0, 3885)\t1.0\n",
      "  (0, 3929)\t1.0\n",
      "  (0, 4879)\t1.0\n",
      "  (0, 7315)\t1.0\n",
      "  (0, 7319)\t1.0\n",
      "  (0, 7475)\t1.0\n",
      "  (0, 7824)\t1.0\n",
      "  (0, 7828)\t1.0\n",
      "  (0, 7869)\t1.0\n",
      "  (0, 7977)\t1.0\n",
      "  (0, 7982)\t1.0\n",
      "  (0, 8021)\t1.0\n",
      "  (0, 8189)\t1.0\n"
     ]
    }
   ],
   "source": [
    "n_rows = 300000\n",
    "\n",
    "X = df.drop(['click', 'id', 'hour', 'device_id', 'device_ip'], axis=1).values\n",
    "# X = df.drop(['click', 'id', 'hour', 'device_id', 'device_ip', 'site_domain', 'site_category', 'app_id', 'app_domain', 'app_category', 'device_id', 'device_ip'], axis=1).valuessite_id           object \n",
    "Y = df['click'].values\n",
    "\n",
    "print(X.shape)\n",
    "\n",
    "n_train = int(n_rows * 0.9)\n",
    "X_train = X[:n_train]\n",
    "Y_train = Y[:n_train]\n",
    "X_test = X[n_train:]\n",
    "Y_test = Y[n_train:]\n",
    "\n",
    "enc = OneHotEncoder(handle_unknown='ignore')\n",
    "X_train_enc = enc.fit_transform(X_train)\n",
    "\n",
    "X_train_enc[0]\n",
    "print(X_train_enc[0])\n",
    "\n",
    "X_test_enc = enc.transform(X_test)"
   ]
  },
  {
   "cell_type": "markdown",
   "id": "fe6ea554",
   "metadata": {},
   "source": [
    "### Decision Tree Classifier"
   ]
  },
  {
   "cell_type": "code",
   "execution_count": 16,
   "id": "a6d2546e",
   "metadata": {},
   "outputs": [
    {
     "name": "stdout",
     "output_type": "stream",
     "text": [
      "{'max_depth': 10}\n",
      "The ROC AUC on testing set is: 0.662\n"
     ]
    }
   ],
   "source": [
    "parameters = {'max_depth': [3, 10, None]}\n",
    "decision_tree = DecisionTreeClassifier(criterion='gini', min_samples_split=30)\n",
    "\n",
    "grid_search = GridSearchCV(decision_tree, parameters, n_jobs=-1, cv=3, scoring='roc_auc')\n",
    "\n",
    "grid_search.fit(X_train_enc, Y_train)\n",
    "print(grid_search.best_params_)\n",
    "\n",
    "decision_tree_best = grid_search.best_estimator_\n",
    "pos_prob = decision_tree_best.predict_proba(X_test_enc)[:, 1]\n",
    "\n",
    "print(f'The ROC AUC on testing set is: {roc_auc_score(Y_test, pos_prob):.3f}')"
   ]
  },
  {
   "cell_type": "code",
   "execution_count": 17,
   "id": "96e132bf",
   "metadata": {},
   "outputs": [
    {
     "name": "stdout",
     "output_type": "stream",
     "text": [
      "The ROC AUC on testing set is: 0.500\n"
     ]
    }
   ],
   "source": [
    "pos_prob = np.zeros(len(Y_test))\n",
    "click_index = np.random.choice(len(Y_test), int(len(Y_test) *  51211.0/300000), replace=False)\n",
    "pos_prob[click_index] = 1\n",
    "\n",
    "print(f'The ROC AUC on testing set is: {roc_auc_score(Y_test, pos_prob):.3f}')"
   ]
  },
  {
   "cell_type": "markdown",
   "id": "b1cc48f2",
   "metadata": {},
   "source": [
    "### Random Forest Classifier"
   ]
  },
  {
   "cell_type": "code",
   "execution_count": 18,
   "id": "4e832ab9",
   "metadata": {},
   "outputs": [
    {
     "name": "stdout",
     "output_type": "stream",
     "text": [
      "{'max_depth': None}\n",
      "0.7357174132947599\n"
     ]
    }
   ],
   "source": [
    "random_forest = RandomForestClassifier(n_estimators=100, criterion='gini', min_samples_split=30, n_jobs=-1)\n",
    "grid_search.fit(X_train_enc, Y_train)\n",
    "print(grid_search.best_params_)\n",
    "print(grid_search.best_score_)"
   ]
  },
  {
   "cell_type": "code",
   "execution_count": 19,
   "id": "b255157d",
   "metadata": {},
   "outputs": [
    {
     "name": "stdout",
     "output_type": "stream",
     "text": [
      "The ROC AUC on testing set is: 0.691\n"
     ]
    }
   ],
   "source": [
    "random_forest_best = grid_search.best_estimator_\n",
    "pos_prob = random_forest_best.predict_proba(X_test_enc)[:, 1]\n",
    "print(f'The ROC AUC on testing set is: {roc_auc_score(Y_test, pos_prob):.3f}')"
   ]
  },
  {
   "cell_type": "markdown",
   "id": "be4824e6",
   "metadata": {},
   "source": [
    "### XGB Classifier"
   ]
  },
  {
   "cell_type": "code",
   "execution_count": 20,
   "id": "d1f303ba",
   "metadata": {},
   "outputs": [
    {
     "name": "stdout",
     "output_type": "stream",
     "text": [
      "[20:55:33] WARNING: /opt/concourse/worker/volumes/live/7a2b9f41-3287-451b-6691-43e9a6c0910f/volume/xgboost-split_1619728204606/work/src/learner.cc:1061: Starting in XGBoost 1.3.0, the default evaluation metric used with the objective 'binary:logistic' was changed from 'error' to 'logloss'. Explicitly set eval_metric if you'd like to restore the old behavior.\n",
      "The ROC AUC on testing set is: 0.699\n"
     ]
    }
   ],
   "source": [
    "model = xgb.XGBClassifier(learning_rate=0.1, max_depth=10, n_estimators=1000, eval_metric='logloss')\n",
    "\n",
    "model.fit(X_train_enc, Y_train)\n",
    "pos_prob = model.predict_proba(X_test_enc)[:, 1]\n",
    "\n",
    "print(f'The ROC AUC on testing set is: {roc_auc_score(Y_test, pos_prob):.3f}')"
   ]
  },
  {
   "cell_type": "markdown",
   "id": "b43e0450",
   "metadata": {},
   "source": [
    "# Adam optimization & changes"
   ]
  },
  {
   "cell_type": "code",
   "execution_count": 9,
   "id": "7cfd14e1",
   "metadata": {},
   "outputs": [],
   "source": [
    "# Importing libraries\n",
    "\n",
    "import numpy as np             # Mathetimatical Operations\n",
    "import pandas as pd            # Data manipulation\n",
    "import os\n",
    "os.environ['KMP_DUPLICATE_LIB_OK']='True'\n",
    "\n",
    "# Visualization\n",
    "import matplotlib.pyplot as plt\n",
    "import seaborn as sns\n",
    "import plotly.express as px\n",
    "from plotly.offline import iplot\n",
    "\n",
    "# Scipy\n",
    "from scipy import stats\n",
    "import scipy.stats as ss\n",
    "\n",
    "# Sklearn\n",
    "from sklearn.tree import DecisionTreeClassifier\n",
    "from sklearn.preprocessing import OneHotEncoder\n",
    "from sklearn.model_selection import GridSearchCV\n",
    "from sklearn.metrics import roc_auc_score\n",
    "from sklearn.ensemble import RandomForestClassifier\n",
    "from sklearn.linear_model import SGDClassifier\n",
    "from sklearn import datasets\n",
    "from sklearn.model_selection import train_test_split\n",
    "from sklearn.model_selection import GridSearchCV\n",
    "\n",
    "# XGBoost\n",
    "import xgboost as xgb\n",
    "\n",
    "# Tensorflow\n",
    "import tensorflow as tf\n",
    "\n",
    "# Other\n",
    "import itertools\n",
    "from tqdm import tqdm\n",
    "from mlxtend.preprocessing import minmax_scaling\n",
    "from typing import Union\n",
    "from wordcloud import WordCloud, STOPWORDS\n",
    "import gzip\n",
    "import timeit\n",
    "import warnings\n",
    "warnings.filterwarnings('ignore')"
   ]
  },
  {
   "cell_type": "code",
   "execution_count": 10,
   "id": "b3ba1c9b",
   "metadata": {},
   "outputs": [],
   "source": [
    "n_rows = 300000\n",
    "n_train = int(n_rows * 0.9)\n",
    "\n",
    "df = pd.read_csv('data/train.gz', compression='gzip', header=0, sep=',', quotechar='\"', error_bad_lines=False)\n",
    "\n",
    "X = df.drop(['click', 'id', 'hour', 'device_id', 'device_ip'], axis=1).values\n",
    "# X = df.drop(['click', 'id', 'hour', 'device_id', 'device_ip', 'site_domain', 'site_category', 'app_id', 'app_domain', 'app_category', 'device_id', 'device_ip'], axis=1).valuessite_id           object \n",
    "Y = df['click'].values"
   ]
  },
  {
   "cell_type": "code",
   "execution_count": 11,
   "id": "fa3bf05d",
   "metadata": {},
   "outputs": [],
   "source": [
    "X_train = X[:n_train]\n",
    "Y_train = Y[:n_train].astype('float32')\n",
    "X_test = X[n_train:]\n",
    "Y_test = Y[n_train:].astype('float32')"
   ]
  },
  {
   "cell_type": "code",
   "execution_count": 12,
   "id": "0d2d8429",
   "metadata": {},
   "outputs": [],
   "source": [
    "enc = OneHotEncoder(handle_unknown='ignore')"
   ]
  },
  {
   "cell_type": "code",
   "execution_count": 13,
   "id": "3b14dfae",
   "metadata": {},
   "outputs": [
    {
     "name": "stdout",
     "output_type": "stream",
     "text": [
      "[[0. 0. 1. ... 0. 0. 0.]\n",
      " [0. 0. 1. ... 0. 0. 0.]\n",
      " [0. 0. 1. ... 0. 0. 0.]\n",
      " ...\n",
      " [0. 0. 1. ... 0. 0. 0.]\n",
      " [0. 0. 1. ... 0. 0. 0.]\n",
      " [0. 0. 1. ... 0. 0. 0.]]\n"
     ]
    }
   ],
   "source": [
    "X_train_enc = enc.fit_transform(X_train).toarray().astype('float32')\n",
    "print(X_train_enc)"
   ]
  },
  {
   "cell_type": "code",
   "execution_count": 14,
   "id": "56279dc1",
   "metadata": {},
   "outputs": [
    {
     "name": "stdout",
     "output_type": "stream",
     "text": [
      "  (0, 2)\t1.0\n",
      "  (0, 7)\t1.0\n",
      "  (0, 1393)\t1.0\n",
      "  (0, 2130)\t1.0\n",
      "  (0, 2677)\t1.0\n",
      "  (0, 3771)\t1.0\n",
      "  (0, 3885)\t1.0\n",
      "  (0, 3929)\t1.0\n",
      "  (0, 4354)\t1.0\n",
      "  (0, 7315)\t1.0\n",
      "  (0, 7318)\t1.0\n",
      "  (0, 7681)\t1.0\n",
      "  (0, 7824)\t1.0\n",
      "  (0, 7828)\t1.0\n",
      "  (0, 7905)\t1.0\n",
      "  (0, 7977)\t1.0\n",
      "  (0, 7982)\t1.0\n",
      "  (0, 8021)\t1.0\n",
      "  (0, 8202)\t1.0\n",
      "  (1, 2)\t1.0\n",
      "  (1, 7)\t1.0\n",
      "  (1, 1231)\t1.0\n",
      "  (1, 2041)\t1.0\n",
      "  (1, 2696)\t1.0\n",
      "  (1, 3771)\t1.0\n",
      "  :\t:\n",
      "  (40158965, 7318)\t1.0\n",
      "  (40158965, 7502)\t1.0\n",
      "  (40158965, 7824)\t1.0\n",
      "  (40158965, 7828)\t1.0\n",
      "  (40158965, 7882)\t1.0\n",
      "  (40158965, 7980)\t1.0\n",
      "  (40158965, 7983)\t1.0\n",
      "  (40158965, 8150)\t1.0\n",
      "  (40158965, 8175)\t1.0\n",
      "  (40158966, 2)\t1.0\n",
      "  (40158966, 6)\t1.0\n",
      "  (40158966, 188)\t1.0\n",
      "  (40158966, 2608)\t1.0\n",
      "  (40158966, 2679)\t1.0\n",
      "  (40158966, 3771)\t1.0\n",
      "  (40158966, 3885)\t1.0\n",
      "  (40158966, 3929)\t1.0\n",
      "  (40158966, 5420)\t1.0\n",
      "  (40158966, 7315)\t1.0\n",
      "  (40158966, 7318)\t1.0\n",
      "  (40158966, 7824)\t1.0\n",
      "  (40158966, 7828)\t1.0\n",
      "  (40158966, 7977)\t1.0\n",
      "  (40158966, 8001)\t1.0\n",
      "  (40158966, 8080)\t1.0\n"
     ]
    }
   ],
   "source": [
    "X_test_enc = enc.transform(X_test)\n",
    "print(X_test_enc)"
   ]
  },
  {
   "cell_type": "code",
   "execution_count": null,
   "id": "d414688c",
   "metadata": {},
   "outputs": [],
   "source": [
    "batch_size = 1000\n",
    "train_data = tf.data.Dataset.from_tensor_slices((X_train_enc, Y_train))\n",
    "train_data = train_data.repeat().shuffle(5000).batch(batch_size).prefetch(1)"
   ]
  },
  {
   "cell_type": "code",
   "execution_count": null,
   "id": "518d3f7c",
   "metadata": {},
   "outputs": [],
   "source": [
    "n_features = int(X_train_enc.shape[1])\n",
    "W = tf.Variable(tf.zeros([n_features, 1]))\n",
    "b = tf.Variable(tf.zeros([1]))"
   ]
  },
  {
   "cell_type": "code",
   "execution_count": null,
   "id": "8ce212d3",
   "metadata": {},
   "outputs": [],
   "source": [
    "learning_rate = 0.0008\n",
    "optimizer = tf.optimizers.Adam(learning_rate)"
   ]
  },
  {
   "cell_type": "code",
   "execution_count": null,
   "id": "6a138e1d",
   "metadata": {},
   "outputs": [],
   "source": [
    "def run_optimization(x, y):\n",
    "    with tf.GradientTape() as g:\n",
    "        logits = tf.add(tf.matmul(x, W), b)[:, 0]\n",
    "        cost = tf.reduce_mean(tf.nn.sigmoid_cross_entropy_with_logits(labels=y, logits=logits))\n",
    "    gradients = g.gradient(cost, [W, b])\n",
    "    optimizer.apply_gradients(zip(gradients, [W, b]))"
   ]
  },
  {
   "cell_type": "code",
   "execution_count": null,
   "id": "03bc0fcf",
   "metadata": {},
   "outputs": [],
   "source": [
    "training_steps = 6000\n",
    "for step, (batch_x, batch_y) in enumerate(train_data.take(training_steps), 1):\n",
    "    run_optimization(batch_x, batch_y)\n",
    "    if step % 500 == 0:\n",
    "        logits = tf.add(tf.matmul(batch_x, W), b)[:, 0]\n",
    "        loss = tf.reduce_mean(tf.nn.sigmoid_cross_entropy_with_logits(labels=batch_y, logits=logits))\n",
    "        print(\"step: %i, loss: %f\" % (step, loss))"
   ]
  },
  {
   "cell_type": "code",
   "execution_count": null,
   "id": "290b063a",
   "metadata": {},
   "outputs": [],
   "source": [
    "logits = tf.add(tf.matmul(X_test_enc, W), b)[:, 0]\n",
    "pred = tf.nn.sigmoid(logits)\n",
    "auc_metric = tf.keras.metrics.AUC()\n",
    "auc_metric.update_state(Y_test, pred)\n",
    "\n",
    "print(f'AUC on testing set: {auc_metric.result().numpy():.3f}')"
   ]
  },
  {
   "cell_type": "markdown",
   "id": "bafe3b68",
   "metadata": {},
   "source": [
    "## Random Forest Classifier Again"
   ]
  },
  {
   "cell_type": "code",
   "execution_count": 3,
   "id": "2dd65033",
   "metadata": {},
   "outputs": [
    {
     "ename": "NameError",
     "evalue": "name 'df' is not defined",
     "output_type": "error",
     "traceback": [
      "\u001b[0;31m---------------------------------------------------------------------------\u001b[0m",
      "\u001b[0;31mNameError\u001b[0m                                 Traceback (most recent call last)",
      "\u001b[0;32m<ipython-input-3-fdebb35fd7f2>\u001b[0m in \u001b[0;36m<module>\u001b[0;34m\u001b[0m\n\u001b[1;32m      1\u001b[0m \u001b[0mn_rows\u001b[0m \u001b[0;34m=\u001b[0m \u001b[0;36m100000\u001b[0m\u001b[0;34m\u001b[0m\u001b[0;34m\u001b[0m\u001b[0m\n\u001b[1;32m      2\u001b[0m \u001b[0;34m\u001b[0m\u001b[0m\n\u001b[0;32m----> 3\u001b[0;31m \u001b[0mX\u001b[0m \u001b[0;34m=\u001b[0m \u001b[0mdf\u001b[0m\u001b[0;34m.\u001b[0m\u001b[0mdrop\u001b[0m\u001b[0;34m(\u001b[0m\u001b[0;34m[\u001b[0m\u001b[0;34m'click'\u001b[0m\u001b[0;34m,\u001b[0m \u001b[0;34m'id'\u001b[0m\u001b[0;34m,\u001b[0m \u001b[0;34m'hour'\u001b[0m\u001b[0;34m,\u001b[0m \u001b[0;34m'device_id'\u001b[0m\u001b[0;34m,\u001b[0m \u001b[0;34m'device_ip'\u001b[0m\u001b[0;34m]\u001b[0m\u001b[0;34m,\u001b[0m \u001b[0maxis\u001b[0m\u001b[0;34m=\u001b[0m\u001b[0;36m1\u001b[0m\u001b[0;34m)\u001b[0m\u001b[0;34m.\u001b[0m\u001b[0mvalues\u001b[0m\u001b[0;34m\u001b[0m\u001b[0;34m\u001b[0m\u001b[0m\n\u001b[0m\u001b[1;32m      4\u001b[0m \u001b[0;31m# X = df.drop(['click', 'id', 'hour', 'device_id', 'device_ip', 'site_domain', 'site_category', 'app_id', 'app_domain', 'app_category', 'device_id', 'device_ip'], axis=1).valuessite_id           object\u001b[0m\u001b[0;34m\u001b[0m\u001b[0;34m\u001b[0m\u001b[0;34m\u001b[0m\u001b[0m\n\u001b[1;32m      5\u001b[0m \u001b[0mY\u001b[0m \u001b[0;34m=\u001b[0m \u001b[0mdf\u001b[0m\u001b[0;34m[\u001b[0m\u001b[0;34m'click'\u001b[0m\u001b[0;34m]\u001b[0m\u001b[0;34m.\u001b[0m\u001b[0mvalues\u001b[0m\u001b[0;34m\u001b[0m\u001b[0;34m\u001b[0m\u001b[0m\n",
      "\u001b[0;31mNameError\u001b[0m: name 'df' is not defined"
     ]
    }
   ],
   "source": [
    "n_rows = 100000\n",
    "\n",
    "X = df.drop(['click', 'id', 'hour', 'device_id', 'device_ip'], axis=1).values\n",
    "# X = df.drop(['click', 'id', 'hour', 'device_id', 'device_ip', 'site_domain', 'site_category', 'app_id', 'app_domain', 'app_category', 'device_id', 'device_ip'], axis=1).valuessite_id           object \n",
    "Y = df['click'].values\n",
    "\n",
    "X_train = X\n",
    "Y_train = Y\n",
    "\n",
    "enc = OneHotEncoder(handle_unknown='ignore')\n",
    "X_train_enc = enc.fit_transform(X_train)"
   ]
  },
  {
   "cell_type": "markdown",
   "id": "449de1b0",
   "metadata": {},
   "source": [
    "### Feature Selection"
   ]
  },
  {
   "cell_type": "code",
   "execution_count": null,
   "id": "25a95e3f",
   "metadata": {},
   "outputs": [],
   "source": [
    "random_forest = RandomForestClassifier(n_estimators=100, criterion='gini', min_samples_split=30, n_jobs=-1)\n",
    "random_forest.fit(X_train_enc.toarray(), Y_train)\n",
    "\n",
    "feature_imp = random_forest.feature_importances_\n",
    "print(feature_imp)"
   ]
  },
  {
   "cell_type": "markdown",
   "id": "45aa76f8",
   "metadata": {},
   "source": [
    "*Bottom 10 weights and the corresponding 10 least important features*"
   ]
  },
  {
   "cell_type": "code",
   "execution_count": 21,
   "id": "e47c916b",
   "metadata": {},
   "outputs": [
    {
     "ename": "NameError",
     "evalue": "name 'feature_imp' is not defined",
     "output_type": "error",
     "traceback": [
      "\u001b[0;31m---------------------------------------------------------------------------\u001b[0m",
      "\u001b[0;31mNameError\u001b[0m                                 Traceback (most recent call last)",
      "\u001b[0;32m<ipython-input-21-4e9f5995a6e7>\u001b[0m in \u001b[0;36m<module>\u001b[0;34m\u001b[0m\n\u001b[1;32m      1\u001b[0m \u001b[0mfeature_names\u001b[0m \u001b[0;34m=\u001b[0m \u001b[0menc\u001b[0m\u001b[0;34m.\u001b[0m\u001b[0mget_feature_names\u001b[0m\u001b[0;34m(\u001b[0m\u001b[0;34m)\u001b[0m\u001b[0;34m\u001b[0m\u001b[0;34m\u001b[0m\u001b[0m\n\u001b[0;32m----> 2\u001b[0;31m \u001b[0mprint\u001b[0m\u001b[0;34m(\u001b[0m\u001b[0mnp\u001b[0m\u001b[0;34m.\u001b[0m\u001b[0msort\u001b[0m\u001b[0;34m(\u001b[0m\u001b[0mfeature_imp\u001b[0m\u001b[0;34m)\u001b[0m\u001b[0;34m[\u001b[0m\u001b[0;34m:\u001b[0m\u001b[0;36m10\u001b[0m\u001b[0;34m]\u001b[0m\u001b[0;34m)\u001b[0m\u001b[0;34m\u001b[0m\u001b[0;34m\u001b[0m\u001b[0m\n\u001b[0m\u001b[1;32m      3\u001b[0m \u001b[0mbottom_10\u001b[0m \u001b[0;34m=\u001b[0m \u001b[0mnp\u001b[0m\u001b[0;34m.\u001b[0m\u001b[0margsort\u001b[0m\u001b[0;34m(\u001b[0m\u001b[0mfeature_imp\u001b[0m\u001b[0;34m)\u001b[0m\u001b[0;34m[\u001b[0m\u001b[0;34m:\u001b[0m\u001b[0;36m10\u001b[0m\u001b[0;34m]\u001b[0m\u001b[0;34m\u001b[0m\u001b[0;34m\u001b[0m\u001b[0m\n\u001b[1;32m      4\u001b[0m \u001b[0mprint\u001b[0m\u001b[0;34m(\u001b[0m\u001b[0;34m'10 least important features are:\\n'\u001b[0m\u001b[0;34m,\u001b[0m \u001b[0mfeature_names\u001b[0m\u001b[0;34m[\u001b[0m\u001b[0mbottom_10\u001b[0m\u001b[0;34m]\u001b[0m\u001b[0;34m)\u001b[0m\u001b[0;34m\u001b[0m\u001b[0;34m\u001b[0m\u001b[0m\n",
      "\u001b[0;31mNameError\u001b[0m: name 'feature_imp' is not defined"
     ]
    }
   ],
   "source": [
    "feature_names = enc.get_feature_names()\n",
    "print(np.sort(feature_imp)[:10])\n",
    "bottom_10 = np.argsort(feature_imp)[:10]\n",
    "print('10 least important features are:\\n', feature_names[bottom_10])"
   ]
  },
  {
   "cell_type": "markdown",
   "id": "a87b53f5",
   "metadata": {},
   "source": [
    "*Top 10 weights and the corresponding 10 most important features*\n"
   ]
  },
  {
   "cell_type": "code",
   "execution_count": null,
   "id": "aa48361b",
   "metadata": {},
   "outputs": [],
   "source": [
    "print(np.sort(feature_imp)[-10:])\n",
    "top_10 = np.argsort(feature_imp)[-10:]\n",
    "print('10 most important features are:\\n', feature_names[top_10])"
   ]
  },
  {
   "cell_type": "markdown",
   "id": "762cda40",
   "metadata": {},
   "source": [
    "**Defining the values to be used for further modelling**"
   ]
  },
  {
   "cell_type": "code",
   "execution_count": null,
   "id": "86e14b89",
   "metadata": {},
   "outputs": [],
   "source": [
    "n_train = 100000\n",
    "X_train = X[:n_train]\n",
    "Y_train = Y[:n_train]\n",
    "X_test = X[n_train:]\n",
    "Y_test = Y[n_train:]\n",
    "\n",
    "enc = OneHotEncoder(handle_unknown='ignore')\n",
    "X_train_enc = enc.fit_transform(X_train)\n",
    "\n",
    "X_test_enc = enc.transform(X_test)"
   ]
  },
  {
   "cell_type": "markdown",
   "id": "40dd00bb",
   "metadata": {},
   "source": [
    "# SGDC Classifier"
   ]
  },
  {
   "cell_type": "code",
   "execution_count": null,
   "id": "21406fca",
   "metadata": {},
   "outputs": [],
   "source": [
    "sgd_lr = SGDClassifier(loss='log', penalty=None, fit_intercept=True, max_iter=10, learning_rate='constant', eta0=0.01)\n",
    "sgd_lr.fit(X_train_enc.toarray(), Y_train)\n",
    "\n",
    "pred = sgd_lr.predict_proba(X_test_enc.toarray())[:, 1]\n",
    "print(f'Training samples: {n_train}, AUC on testing set: {roc_auc_score(Y_test, pred):.3f}')"
   ]
  },
  {
   "cell_type": "markdown",
   "id": "1d7443bc",
   "metadata": {},
   "source": [
    "**Feature selection with L1 regularization**"
   ]
  },
  {
   "cell_type": "code",
   "execution_count": null,
   "id": "e0845cff",
   "metadata": {},
   "outputs": [],
   "source": [
    "sgd_lr_l1 = SGDClassifier(loss='log', penalty='l1', alpha=0.0001, fit_intercept=True, max_iter=10, learning_rate='constant', eta0=0.01)\n",
    "sgd_lr_l1.fit(X_train_enc.toarray(), Y_train)\n",
    "\n",
    "coef_abs = np.abs(sgd_lr_l1.coef_)\n",
    "print(coef_abs)"
   ]
  },
  {
   "cell_type": "markdown",
   "id": "0169efd8",
   "metadata": {},
   "source": [
    "*Bottom 10 weights and the corresponding 10 least important features*\n"
   ]
  },
  {
   "cell_type": "code",
   "execution_count": null,
   "id": "03183559",
   "metadata": {},
   "outputs": [],
   "source": [
    "print(np.sort(coef_abs)[0][:10])\n",
    "\n",
    "feature_names = enc.get_feature_names()\n",
    "bottom_10 = np.argsort(coef_abs)[0][:10]\n",
    "print('10 least important features are:\\n', feature_names[bottom_10])"
   ]
  },
  {
   "cell_type": "markdown",
   "id": "c5f5f053",
   "metadata": {},
   "source": [
    "*Top 10 weights and the corresponding 10 most important features*"
   ]
  },
  {
   "cell_type": "code",
   "execution_count": null,
   "id": "16c9456f",
   "metadata": {},
   "outputs": [],
   "source": [
    "print(np.sort(coef_abs)[0][-10:])\n",
    "top_10 = np.argsort(coef_abs)[0][-10:]\n",
    "print('10 most important features are:\\n', feature_names[top_10])"
   ]
  },
  {
   "cell_type": "markdown",
   "id": "3e693e90",
   "metadata": {},
   "source": [
    "### Online learning with SGDC"
   ]
  },
  {
   "cell_type": "code",
   "execution_count": null,
   "id": "231b2f2a",
   "metadata": {},
   "outputs": [],
   "source": [
    "n_rows = 100000 * 11\n",
    "\n",
    "n_train = 100000 * 10\n",
    "X_train = X[:n_train]\n",
    "Y_train = Y[:n_train]\n",
    "X_test = X[n_train:]\n",
    "Y_test = Y[n_train:]\n",
    "\n",
    "enc = OneHotEncoder(handle_unknown='ignore')\n",
    "enc.fit(X_train)"
   ]
  },
  {
   "cell_type": "code",
   "execution_count": null,
   "id": "c182c7a2",
   "metadata": {},
   "outputs": [],
   "source": [
    "# The number of iterations is set to 1 if using partial_fit\n",
    "\n",
    "sgd_lr_online = SGDClassifier(loss='log', penalty=None, fit_intercept=True, max_iter=1, learning_rate='constant',\n",
    "                              eta0=0.01)\n",
    "\n",
    "start_time = timeit.default_timer()\n",
    "\n",
    "\n",
    "# Use the first 1,000,000 samples for training, and the next 100,000 for testing\n",
    "\n",
    "for i in range(10):\n",
    "    x_train = X_train[i*100000:(i+1)*100000]\n",
    "    y_train = Y_train[i*100000:(i+1)*100000]\n",
    "    x_train_enc = enc.transform(x_train)\n",
    "    sgd_lr_online.partial_fit(x_train_enc.toarray(), y_train, classes=[0, 1])\n",
    "\n",
    "print(f\"--- {(timeit.default_timer() - start_time)}.3fs seconds ---\")\n",
    "\n",
    "x_test_enc = enc.transform(X_test)\n",
    "\n",
    "pred = sgd_lr_online.predict_proba(x_test_enc.toarray())[:, 1]\n",
    "print(f'Training samples: {n_train * 10}, AUC on testing set: {roc_auc_score(Y_test, pred):.3f}')"
   ]
  },
  {
   "cell_type": "markdown",
   "id": "416cbacd",
   "metadata": {},
   "source": [
    "# Logistic Regression"
   ]
  },
  {
   "cell_type": "code",
   "execution_count": null,
   "id": "7ddd5d68",
   "metadata": {},
   "outputs": [],
   "source": [
    "# Multiclass classification\n",
    "\n",
    "digits = datasets.load_digits()\n",
    "n_samples = len(digits.images)\n",
    "X = digits.images.reshape((n_samples, -1))\n",
    "Y = digits.target\n",
    "\n",
    "X_train, X_test, Y_train, Y_test = train_test_split(X, Y, test_size=0.2, random_state=42)\n",
    "parameters = {'penalty': ['l2', None],\n",
    "              'alpha': [1e-07, 1e-06, 1e-05, 1e-04],\n",
    "              'eta0': [0.01, 0.1, 1, 10]}\n",
    "\n",
    "sgd_lr = SGDClassifier(loss='log', learning_rate='constant', eta0=0.01, fit_intercept=True, max_iter=10)\n",
    "\n",
    "grid_search = GridSearchCV(sgd_lr, parameters, n_jobs=-1, cv=5)\n",
    "\n",
    "grid_search.fit(X_train, Y_train)\n",
    "print(grid_search.best_params_)\n",
    "\n",
    "sgd_lr_best = grid_search.best_estimator_\n",
    "accuracy = sgd_lr_best.score(X_test, Y_test)\n",
    "print(f'The accuracy on testing set is: {accuracy*100:.1f}%')"
   ]
  },
  {
   "cell_type": "markdown",
   "id": "37c3b310",
   "metadata": {},
   "source": [
    "# Conclusion\n",
    "\n",
    "**Using the models we get:**\n",
    "* Decision Tree Classifier gives ROC AUC on testing set to be 0.662, so it is a poor classification.\n",
    "* Even though Random Forest Classifier with ROC AUC of 692 is better, but it still gives a poor classification.\n",
    "* XGB Classifier gives ROC AUC of 0.699, so it closer to fair classification but still not so."
   ]
  }
 ],
 "metadata": {
  "kernelspec": {
   "display_name": "Python 3 (ipykernel)",
   "language": "python",
   "name": "python3"
  },
  "language_info": {
   "codemirror_mode": {
    "name": "ipython",
    "version": 3
   },
   "file_extension": ".py",
   "mimetype": "text/x-python",
   "name": "python",
   "nbconvert_exporter": "python",
   "pygments_lexer": "ipython3",
   "version": "3.8.11"
  }
 },
 "nbformat": 4,
 "nbformat_minor": 5
}

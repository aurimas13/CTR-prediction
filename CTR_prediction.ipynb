{
 "cells": [
  {
   "cell_type": "markdown",
   "id": "e5f447f5",
   "metadata": {},
   "source": [
    "# The ML model of CTR prediction\n",
    "\n",
    "This is the analysis of ads generated through 11 days and known as **Avazu** data. The project follows EDA, preprocessing, model building, it's evaluation & deployment. "
   ]
  },
  {
   "cell_type": "code",
   "execution_count": null,
   "id": "60297e73",
   "metadata": {},
   "outputs": [],
   "source": []
  },
  {
   "cell_type": "markdown",
   "id": "4da25291",
   "metadata": {},
   "source": [
    "## Respective data fields\n",
    "\n",
    "* *id*: ad identifier such as 1000009418151094273, 10000169349117863715\n",
    "* *click*: 0 for non-click, 1 for click\n",
    "* *hour*: in the format of YYMMDDHH, for example 21090200\n",
    "* *C1*: anonymized categorical variable, such as 1005, 1002\n",
    "* *banner_pos*: where a banner is located - 1 and 0\n",
    "* *site_id*: site_identifier, such as 1fb01fe, fe8cc448, d6137915\n",
    "* *site_domain*: hashed site category, such as 'bb1ef334', 'f3845767'\n",
    "* *site_category*: hashed site category, such as 18905ebd, 28905ebd\n",
    "* *app_id*: mobile app identifier\n",
    "* app_domain\n",
    "* app_category\n",
    "* *device_id*: mobile device identifier\n",
    "* *device_ip*: IP address\n",
    "* *device_model*: such as iPhone6, Samsung - hashed\n",
    "* *device_type*: such as tablet, smartphone - hashed\n",
    "* *device_conn_type*: Wi-Fi or 3G for example - again hashed\n",
    "* *C14-C21*: anonymized categorical variables"
   ]
  },
  {
   "cell_type": "code",
   "execution_count": null,
   "id": "c9497069",
   "metadata": {},
   "outputs": [],
   "source": []
  }
 ],
 "metadata": {
  "kernelspec": {
   "display_name": "Python 3 (ipykernel)",
   "language": "python",
   "name": "python3"
  },
  "language_info": {
   "codemirror_mode": {
    "name": "ipython",
    "version": 3
   },
   "file_extension": ".py",
   "mimetype": "text/x-python",
   "name": "python",
   "nbconvert_exporter": "python",
   "pygments_lexer": "ipython3",
   "version": "3.8.11"
  }
 },
 "nbformat": 4,
 "nbformat_minor": 5
}
